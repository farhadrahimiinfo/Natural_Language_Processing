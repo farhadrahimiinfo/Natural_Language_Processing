{
  "nbformat": 4,
  "nbformat_minor": 0,
  "metadata": {
    "colab": {
      "provenance": [],
      "toc_visible": true,
      "authorship_tag": "ABX9TyMrDpo1Ml/9ZokeACwqQZnE",
      "include_colab_link": true
    },
    "kernelspec": {
      "name": "python3",
      "display_name": "Python 3"
    },
    "language_info": {
      "name": "python"
    }
  },
  "cells": [
    {
      "cell_type": "markdown",
      "metadata": {
        "id": "view-in-github",
        "colab_type": "text"
      },
      "source": [
        "<a href=\"https://colab.research.google.com/github/farhadrahimiinfo/Natural_Language_Processing/blob/main/NLP__algorithms_for_the_Kurdish_Language.ipynb\" target=\"_parent\"><img src=\"https://colab.research.google.com/assets/colab-badge.svg\" alt=\"Open In Colab\"/></a>"
      ]
    },
    {
      "cell_type": "markdown",
      "source": [
        "#Natural Language Processing (NLP) algorithms for the Kurdish Language (ckb: Central branch of Kurdish)\n",
        "\n",
        "\n",
        "AsoSoft Library (Python)\n",
        "AsoSoft Library offers the following natural language processing (NLP) algorithms for the Kurdish Language (ckb: Central branch of Kurdish):\n",
        "\n",
        "* **Grapheme-to-Phoneme (G2P)** converter and Transliterator: converts Kurdish text * into syllabified phoneme string. Also transliterates Kurdish texts from * * * Arabic script into Latin script and vice versa.\n",
        "* **Normalizer**: normalizes the Kurdish text and punctuation marks, unifies numerals, replaces Html Entities, extracts and replaces URLs and emails, and more.\n",
        "* **Numeral Converter**: converts any type of numbers into Kurdish words.\n",
        "* **Sort**: Sorts a list in correct Kurdish alphabet order.\n",
        "* **Poem Meter Classifier**: Classifies the meter of the input Kurdish poem\n",
        "\n",
        "\n",
        "AsoSoft Library is originally written in C# by Aso Mahmudi and this library is its Python port.\n",
        "\n",
        "\n"
      ],
      "metadata": {
        "id": "Ahl3MKln2FBO"
      }
    },
    {
      "cell_type": "code",
      "execution_count": 3,
      "metadata": {
        "colab": {
          "base_uri": "https://localhost:8080/"
        },
        "id": "na_O0D_q179i",
        "outputId": "1b8ec7e0-c333-4ad5-d435-876e7c6ab3bc"
      },
      "outputs": [
        {
          "output_type": "stream",
          "name": "stdout",
          "text": [
            "Requirement already satisfied: asosoft in /usr/local/lib/python3.11/dist-packages (0.2.0)\n",
            "Requirement already satisfied: regex>=2023.0.0 in /usr/local/lib/python3.11/dist-packages (from asosoft) (2024.11.6)\n"
          ]
        }
      ],
      "source": [
        "!pip install asosoft"
      ]
    },
    {
      "cell_type": "markdown",
      "source": [
        "#Normalizer\n",
        " normalizes the Kurdish text and punctuation marks, unifies numerals, replaces Html Entities, extracts and replaces URLs and emails, and more.\n"
      ],
      "metadata": {
        "id": "vaoQUsdO2D-L"
      }
    },
    {
      "cell_type": "code",
      "source": [
        "import asosoft\n"
      ],
      "metadata": {
        "id": "qEhe_a9B2ZcT"
      },
      "execution_count": 4,
      "outputs": []
    },
    {
      "cell_type": "markdown",
      "source": [
        "# Kurdish Text Normalizer\n",
        "Several functions needed for Central Kurdish text normalization:\n",
        "\n",
        "Normalize Kurdish\n",
        "Two character replacement lists are provided as the resources of the library:\n",
        "\n",
        "Deep Unicode Corrections:\n",
        "* replacing deprecated Arabic Presentation Forms (FB50–FDFF and FE70–FEFF) with * corresponding standard characters.\n",
        "* replacing different types of dashes and spaces\n",
        "removing Unicode control character\n",
        "\n",
        "Additional Unicode Corrections\n",
        "* replacing special Arabic math signs with corresponding Latin characters\n",
        "* replacing similar, but different letters with standard characters (e.g. ڪ,ے,ٶ with ک,ی,ؤ)\n",
        "\n",
        "\n",
        "The normalization task in this function:\n",
        "\n",
        "for all Arabic scripts (including Kurdish, Arabic, and Persian):\n",
        "* Character-based replacement:\n",
        "* * Above mentioned replacement lists\n",
        "* * Private Use Area (U+E000 to U+F8FF) with White Square character\n",
        "\n",
        "\n",
        "Standardizing and removing duplicated or unnecessary Zero-Width characters\n",
        "\n",
        "removing unnecessary Tatweels (U+0640)\n",
        "\n",
        "only for Central Kurdish:\n",
        "standardizing Kurdish characters: ە, هـ, ی, and ک\n",
        "* correcting miss-converted characters from non-Unicode fonts\n",
        "* * replacing word-initial ر with ڕ\n",
        "the simple overloading:\n",
        "\n"
      ],
      "metadata": {
        "id": "MNKfCClK2rsK"
      }
    },
    {
      "cell_type": "code",
      "source": [
        "#Normalize\n",
        "print(asosoft.Normalize(\"دەقے شیَعري خـــۆش. ره‌نگه‌كاني خاك\"))\n",
        "\n"
      ],
      "metadata": {
        "colab": {
          "base_uri": "https://localhost:8080/"
        },
        "id": "kUy399MX2j-r",
        "outputId": "9c2db2eb-c80b-4ec4-ae77-6ce2ecc6e1e6"
      },
      "execution_count": 6,
      "outputs": [
        {
          "output_type": "stream",
          "name": "stdout",
          "text": [
            "دەقی شێعری خۆش. ڕەنگەکانی خاک\n"
          ]
        }
      ]
    },
    {
      "cell_type": "code",
      "source": [
        "#NormalizePunctuations corrects spaces before and after of the punctuations. When seprateAllPunctuations is true,\n",
        "\n",
        "print(asosoft.NormalizePunctuations(\"دەقی«کوردی » و ڕێنووس ،((خاڵبەندی )) چۆنە ؟\", False))\n"
      ],
      "metadata": {
        "colab": {
          "base_uri": "https://localhost:8080/"
        },
        "id": "ZRkZ4gO94Gq3",
        "outputId": "2079aa3d-4665-4952-a347-62d032398d59"
      },
      "execution_count": 12,
      "outputs": [
        {
          "output_type": "stream",
          "name": "stdout",
          "text": [
            "دەقی «کوردی» و ڕێنووس، «خاڵبەندی» چۆنە؟\n"
          ]
        }
      ]
    },
    {
      "cell_type": "code",
      "source": [
        "#Replace Html Entities\n",
        "\n",
        "print(asosoft.ReplaceHtmlEntity(\"ئێوە &quot;دەق&quot; بە زمانی &lt;کوردی&gt; دەنووسن\"))\n"
      ],
      "metadata": {
        "colab": {
          "base_uri": "https://localhost:8080/"
        },
        "id": "hwSsUkVx4dG3",
        "outputId": "cc2b9bac-3db9-4649-833d-d394f56f06fe"
      },
      "execution_count": 15,
      "outputs": [
        {
          "output_type": "stream",
          "name": "stdout",
          "text": [
            "ئێوە \"دەق\" بە زمانی <کوردی> دەنووسن\n"
          ]
        }
      ]
    },
    {
      "cell_type": "code",
      "source": [
        "#Unify Numerals\n",
        "#UnifyNumerals unifies numeral characters into desired numeral type from en (0123456789) or ar (٠١٢٣٤٥٦٧٨٩)\n",
        "\n",
        "print(asosoft.UnifyNumerals(\"ژمارەکانی ٤٥٦ و ۴۵۶ و 456\", \"en\"))\n"
      ],
      "metadata": {
        "colab": {
          "base_uri": "https://localhost:8080/"
        },
        "id": "DJq4pKys4zx3",
        "outputId": "1eb13a65-a06e-4613-f242-2ca7d29f7070"
      },
      "execution_count": 18,
      "outputs": [
        {
          "output_type": "stream",
          "name": "stdout",
          "text": [
            "ژمارەکانی 456 و 456 و 456\n"
          ]
        }
      ]
    },
    {
      "cell_type": "code",
      "source": [
        "#Seperate Digits from words\n",
        "#SeperateDigits add a space between joined numerals and words (e.g. replacing \"12کەس\" with \"12 کەس\"). It improves language models.\n",
        "print(asosoft.SeperateDigits(\"لە ساڵی1950دا1000دۆلاریان بە 5کەس دا\"))\n",
        "\n"
      ],
      "metadata": {
        "colab": {
          "base_uri": "https://localhost:8080/"
        },
        "id": "7U0zoCtp4-PF",
        "outputId": "67a43e13-77ef-4721-adf6-731f21f63538"
      },
      "execution_count": 19,
      "outputs": [
        {
          "output_type": "stream",
          "name": "stdout",
          "text": [
            "لە ساڵی 1950 دا 1000 دۆلاریان بە 5 کەس دا\n"
          ]
        }
      ]
    },
    {
      "cell_type": "code",
      "source": [
        "#Word to Word Replacment\n",
        "#Word2WordReplacement applies a \"string to string\" replacement dictionary on the text. It replaces the full-matched words not a part of them.\n",
        "print(asosoft.Word2WordReplacement(\"مال، نووری مالیکی\", {\"مال\": \"ماڵ\", \"سلاو\": \"سڵاو\"}))\n"
      ],
      "metadata": {
        "colab": {
          "base_uri": "https://localhost:8080/"
        },
        "id": "O9B8EJsa5JV7",
        "outputId": "9cc26031-7b67-4727-c216-9299b2f9f14e"
      },
      "execution_count": 21,
      "outputs": [
        {
          "output_type": "stream",
          "name": "stdout",
          "text": [
            "ماڵ، نووری مالیکی\n"
          ]
        }
      ]
    },
    {
      "cell_type": "markdown",
      "source": [
        "#Kurdish Numeral converter\n",
        "It converts numerals into Central Kurdish words. It is useful in text-to-speech tools.\n",
        "\n",
        "* integers (1100 => )\n",
        "* floats (10.11)\n",
        "* negatives (-10.11)\n",
        "* percent (100% or %100)\n",
        "* querency marks ($100, £100, and €100)\n"
      ],
      "metadata": {
        "id": "XW3E265n5UXK"
      }
    },
    {
      "cell_type": "code",
      "source": [
        "print(asosoft.Number2Word(\"لە ساڵی 1999دا بڕی 40% لە پارەکەیان واتە $102.1 یان وەرگرت\"))\n"
      ],
      "metadata": {
        "colab": {
          "base_uri": "https://localhost:8080/"
        },
        "id": "H752r7Ar5cNa",
        "outputId": "d434e1fb-22de-4306-a6b4-283d559299e0"
      },
      "execution_count": 22,
      "outputs": [
        {
          "output_type": "stream",
          "name": "stdout",
          "text": [
            "لە ساڵی هەزار و نۆسەد و نەوەد و نۆدا بڕی چل لە سەد لە پارەکەیان واتە سەد و دوو پۆینت یەک دۆلار یان وەرگرت\n"
          ]
        }
      ]
    },
    {
      "cell_type": "markdown",
      "source": [
        "#Kurdish Sort\n",
        "Sorting a string list in correct order of Kurdish alphabet (\"ئءاآأإبپتثجچحخدڎذرڕزژسشصضطظعغفڤقكکگلڵمنوۆۊۉهھەیێ\")\n",
        "\n"
      ],
      "metadata": {
        "id": "KxFS8UaS5hX-"
      }
    },
    {
      "cell_type": "code",
      "source": [
        "myList = [\"یەک\", \"ڕەنگ\", \"ئەو\", \"ئاو\", \"ڤەژین\", \"فڵان\"]\n"
      ],
      "metadata": {
        "id": "MduNT0EE5lv-"
      },
      "execution_count": 23,
      "outputs": []
    },
    {
      "cell_type": "code",
      "source": [
        "print(asosoft.KurdishSort(myList))\n"
      ],
      "metadata": {
        "colab": {
          "base_uri": "https://localhost:8080/"
        },
        "id": "WYeCcP2B5nwD",
        "outputId": "02d791f1-ebc3-4c50-dfdb-7d0518860acb"
      },
      "execution_count": 24,
      "outputs": [
        {
          "output_type": "stream",
          "name": "stdout",
          "text": [
            "['ئاو', 'ئەو', 'ڕەنگ', 'فڵان', 'ڤەژین', 'یەک']\n"
          ]
        }
      ]
    },
    {
      "cell_type": "code",
      "source": [
        "input_list = [\"یەک\", \"ڕەنگ\", \"ئەو\", \"ئاو\", \"ڤەژین\", \"فڵان\"]\n",
        "input_order = list(\"ئءاآأإبپتثجچحخدڎڊذرڕزژسشصضطظعغفڤقكکگڴلڵمنوۆۊۉۋهھەیێ\")\n",
        "print(asosoft.CustomSort(input_list, input_order))"
      ],
      "metadata": {
        "colab": {
          "base_uri": "https://localhost:8080/"
        },
        "id": "VLsAEy265viM",
        "outputId": "4461d15c-1db2-4c5c-e105-ca87c8bd916b"
      },
      "execution_count": 26,
      "outputs": [
        {
          "output_type": "stream",
          "name": "stdout",
          "text": [
            "['ئاو', 'ئەو', 'ڕەنگ', 'فڵان', 'ڤەژین', 'یەک']\n"
          ]
        }
      ]
    },
    {
      "cell_type": "code",
      "source": [
        "#Poem Meter Classifier\n"
      ],
      "metadata": {
        "id": "PZOsnGPp53mW"
      },
      "execution_count": null,
      "outputs": []
    }
  ]
}