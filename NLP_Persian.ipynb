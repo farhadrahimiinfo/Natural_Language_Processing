{
  "nbformat": 4,
  "nbformat_minor": 0,
  "metadata": {
    "colab": {
      "provenance": [],
      "toc_visible": true,
      "authorship_tag": "ABX9TyNdwPXh4qrW2JegE96VW37L",
      "include_colab_link": true
    },
    "kernelspec": {
      "name": "python3",
      "display_name": "Python 3"
    },
    "language_info": {
      "name": "python"
    }
  },
  "cells": [
    {
      "cell_type": "markdown",
      "metadata": {
        "id": "view-in-github",
        "colab_type": "text"
      },
      "source": [
        "<a href=\"https://colab.research.google.com/github/farhadrahimiinfo/Natural_Language_Processing/blob/main/NLP_Persian.ipynb\" target=\"_parent\"><img src=\"https://colab.research.google.com/assets/colab-badge.svg\" alt=\"Open In Colab\"/></a>"
      ]
    },
    {
      "cell_type": "markdown",
      "source": [
        "# Natural Language Processing"
      ],
      "metadata": {
        "id": "Czjv75ffsHyo"
      }
    },
    {
      "cell_type": "markdown",
      "source": [
        "# نصب و راه اندازی کتاب خانه های مورد نیاز\n"
      ],
      "metadata": {
        "id": "DlfsIWEcsxb3"
      }
    },
    {
      "cell_type": "code",
      "execution_count": null,
      "metadata": {
        "colab": {
          "base_uri": "https://localhost:8080/"
        },
        "id": "7rt0Gi6dr4-D",
        "outputId": "cefa236e-d8a9-4903-ccb3-adc49bafcc7e"
      },
      "outputs": [
        {
          "output_type": "stream",
          "name": "stdout",
          "text": [
            "Requirement already satisfied: hazm in /usr/local/lib/python3.11/dist-packages (0.10.0)\n",
            "Requirement already satisfied: fasttext-wheel<0.10.0,>=0.9.2 in /usr/local/lib/python3.11/dist-packages (from hazm) (0.9.2)\n",
            "Requirement already satisfied: flashtext<3.0,>=2.7 in /usr/local/lib/python3.11/dist-packages (from hazm) (2.7)\n",
            "Requirement already satisfied: gensim<5.0.0,>=4.3.1 in /usr/local/lib/python3.11/dist-packages (from hazm) (4.3.3)\n",
            "Requirement already satisfied: nltk<4.0.0,>=3.8.1 in /usr/local/lib/python3.11/dist-packages (from hazm) (3.9.1)\n",
            "Requirement already satisfied: numpy==1.24.3 in /usr/local/lib/python3.11/dist-packages (from hazm) (1.24.3)\n",
            "Requirement already satisfied: python-crfsuite<0.10.0,>=0.9.9 in /usr/local/lib/python3.11/dist-packages (from hazm) (0.9.11)\n",
            "Requirement already satisfied: scikit-learn<2.0.0,>=1.2.2 in /usr/local/lib/python3.11/dist-packages (from hazm) (1.6.1)\n",
            "Requirement already satisfied: pybind11>=2.2 in /usr/local/lib/python3.11/dist-packages (from fasttext-wheel<0.10.0,>=0.9.2->hazm) (2.13.6)\n",
            "Requirement already satisfied: setuptools>=0.7.0 in /usr/local/lib/python3.11/dist-packages (from fasttext-wheel<0.10.0,>=0.9.2->hazm) (75.1.0)\n",
            "Requirement already satisfied: scipy<1.14.0,>=1.7.0 in /usr/local/lib/python3.11/dist-packages (from gensim<5.0.0,>=4.3.1->hazm) (1.13.1)\n",
            "Requirement already satisfied: smart-open>=1.8.1 in /usr/local/lib/python3.11/dist-packages (from gensim<5.0.0,>=4.3.1->hazm) (7.1.0)\n",
            "Requirement already satisfied: click in /usr/local/lib/python3.11/dist-packages (from nltk<4.0.0,>=3.8.1->hazm) (8.1.8)\n",
            "Requirement already satisfied: joblib in /usr/local/lib/python3.11/dist-packages (from nltk<4.0.0,>=3.8.1->hazm) (1.4.2)\n",
            "Requirement already satisfied: regex>=2021.8.3 in /usr/local/lib/python3.11/dist-packages (from nltk<4.0.0,>=3.8.1->hazm) (2024.11.6)\n",
            "Requirement already satisfied: tqdm in /usr/local/lib/python3.11/dist-packages (from nltk<4.0.0,>=3.8.1->hazm) (4.67.1)\n",
            "Requirement already satisfied: threadpoolctl>=3.1.0 in /usr/local/lib/python3.11/dist-packages (from scikit-learn<2.0.0,>=1.2.2->hazm) (3.5.0)\n",
            "Requirement already satisfied: wrapt in /usr/local/lib/python3.11/dist-packages (from smart-open>=1.8.1->gensim<5.0.0,>=4.3.1->hazm) (1.17.2)\n",
            "Requirement already satisfied: parsivar in /usr/local/lib/python3.11/dist-packages (0.2.3.1)\n",
            "Requirement already satisfied: nltk>=3.6.6 in /usr/local/lib/python3.11/dist-packages (from parsivar) (3.9.1)\n",
            "Requirement already satisfied: click in /usr/local/lib/python3.11/dist-packages (from nltk>=3.6.6->parsivar) (8.1.8)\n",
            "Requirement already satisfied: joblib in /usr/local/lib/python3.11/dist-packages (from nltk>=3.6.6->parsivar) (1.4.2)\n",
            "Requirement already satisfied: regex>=2021.8.3 in /usr/local/lib/python3.11/dist-packages (from nltk>=3.6.6->parsivar) (2024.11.6)\n",
            "Requirement already satisfied: tqdm in /usr/local/lib/python3.11/dist-packages (from nltk>=3.6.6->parsivar) (4.67.1)\n",
            "Requirement already satisfied: persianutils in /usr/local/lib/python3.11/dist-packages (1.0.0)\n",
            "Requirement already satisfied: polyglot in /usr/local/lib/python3.11/dist-packages (16.7.4)\n",
            "Collecting pyicu\n",
            "  Using cached PyICU-2.14.tar.gz (263 kB)\n",
            "  Installing build dependencies ... \u001b[?25l\u001b[?25hdone\n",
            "  Getting requirements to build wheel ... \u001b[?25l\u001b[?25hdone\n",
            "  Preparing metadata (pyproject.toml) ... \u001b[?25l\u001b[?25hdone\n",
            "Building wheels for collected packages: pyicu\n",
            "  Building wheel for pyicu (pyproject.toml) ... \u001b[?25l\u001b[?25hdone\n",
            "  Created wheel for pyicu: filename=PyICU-2.14-cp311-cp311-linux_x86_64.whl size=1825012 sha256=129696735195fc8fa505b3623ba95225c9a1eef700a4c9e821bd6bdea2261291\n",
            "  Stored in directory: /root/.cache/pip/wheels/61/f8/dc/c70316d1bb1cae6cf19f17c673d2d198fadc78a6ee2b05091b\n",
            "Successfully built pyicu\n",
            "Installing collected packages: pyicu\n",
            "Successfully installed pyicu-2.14\n",
            "Collecting pycld2\n",
            "  Downloading pycld2-0.41.tar.gz (41.4 MB)\n",
            "\u001b[2K     \u001b[90m━━━━━━━━━━━━━━━━━━━━━━━━━━━━━━━━━━━━━━━━\u001b[0m \u001b[32m41.4/41.4 MB\u001b[0m \u001b[31m26.2 MB/s\u001b[0m eta \u001b[36m0:00:00\u001b[0m\n",
            "\u001b[?25h  Preparing metadata (setup.py) ... \u001b[?25l\u001b[?25hdone\n",
            "Building wheels for collected packages: pycld2\n",
            "  Building wheel for pycld2 (setup.py) ... \u001b[?25l\u001b[?25hdone\n",
            "  Created wheel for pycld2: filename=pycld2-0.41-cp311-cp311-linux_x86_64.whl size=9916407 sha256=7266aa7d97d73deaabd6834fb9b10145df17d30d1c62decd493ea0e50a22a589\n",
            "  Stored in directory: /root/.cache/pip/wheels/9a/71/a1/89cdc6ae2ecd7bb3bf67baee27a134f761b3e2922ea7fdfbcb\n",
            "Successfully built pycld2\n",
            "Installing collected packages: pycld2\n",
            "Successfully installed pycld2-0.41\n",
            "Collecting morfessor\n",
            "  Downloading Morfessor-2.0.6-py3-none-any.whl.metadata (628 bytes)\n",
            "Downloading Morfessor-2.0.6-py3-none-any.whl (35 kB)\n",
            "Installing collected packages: morfessor\n",
            "Successfully installed morfessor-2.0.6\n"
          ]
        }
      ],
      "source": [
        "!pip install hazm\n",
        "!pip install parsivar\n",
        "!pip install persianutils\n",
        "!pip install polyglot\n",
        "!pip install pyicu\n",
        "!pip install pycld2\n",
        "!pip install morfessor"
      ]
    },
    {
      "cell_type": "markdown",
      "source": [
        "# فراخوانی کتاب خانه های مورد نیاز"
      ],
      "metadata": {
        "id": "mnDwUKYVtKCt"
      }
    },
    {
      "cell_type": "code",
      "source": [
        "import hazm\n",
        "import parsivar\n",
        "import persianutils\n",
        "import polyglot"
      ],
      "metadata": {
        "id": "maqEKbOpsFSL"
      },
      "execution_count": null,
      "outputs": []
    },
    {
      "cell_type": "code",
      "source": [
        "# train.csv\n",
        "!gdown --id 1rovazK48q7pHcEM271aX70Dr594NYQ77\n",
        "# test.csv\n",
        "!gdown --id 1ZCHuj6JtyOkb5ismn3qF3Rp2DRGJ1tRk\n",
        "\n",
        "# Q1-Sentences.txt\n",
        "!gdown --id 1ARhYtjRLG729JEzkxMxlKjRKb6mwhEfc\n",
        "# Q6-Sentences.txt\n",
        "!gdown --id 1QLR5ax5KZGDH7bkQf1c9Hp59BILsiI3Q"
      ],
      "metadata": {
        "colab": {
          "base_uri": "https://localhost:8080/"
        },
        "id": "smvvWvQbtTy1",
        "outputId": "48cd3e83-09f9-48fb-bb52-102bf92396d3"
      },
      "execution_count": null,
      "outputs": [
        {
          "output_type": "stream",
          "name": "stdout",
          "text": [
            "/usr/local/lib/python3.11/dist-packages/gdown/__main__.py:140: FutureWarning: Option `--id` was deprecated in version 4.3.1 and will be removed in 5.0. You don't need to pass it anymore to use a file ID.\n",
            "  warnings.warn(\n",
            "Downloading...\n",
            "From: https://drive.google.com/uc?id=1rovazK48q7pHcEM271aX70Dr594NYQ77\n",
            "To: /content/train.csv\n",
            "100% 20.1M/20.1M [00:00<00:00, 87.5MB/s]\n",
            "/usr/local/lib/python3.11/dist-packages/gdown/__main__.py:140: FutureWarning: Option `--id` was deprecated in version 4.3.1 and will be removed in 5.0. You don't need to pass it anymore to use a file ID.\n",
            "  warnings.warn(\n",
            "Downloading...\n",
            "From: https://drive.google.com/uc?id=1ZCHuj6JtyOkb5ismn3qF3Rp2DRGJ1tRk\n",
            "To: /content/test.csv\n",
            "100% 2.03M/2.03M [00:00<00:00, 142MB/s]\n",
            "/usr/local/lib/python3.11/dist-packages/gdown/__main__.py:140: FutureWarning: Option `--id` was deprecated in version 4.3.1 and will be removed in 5.0. You don't need to pass it anymore to use a file ID.\n",
            "  warnings.warn(\n",
            "Downloading...\n",
            "From: https://drive.google.com/uc?id=1ARhYtjRLG729JEzkxMxlKjRKb6mwhEfc\n",
            "To: /content/Q1-Sentences.txt\n",
            "100% 734/734 [00:00<00:00, 2.59MB/s]\n",
            "/usr/local/lib/python3.11/dist-packages/gdown/__main__.py:140: FutureWarning: Option `--id` was deprecated in version 4.3.1 and will be removed in 5.0. You don't need to pass it anymore to use a file ID.\n",
            "  warnings.warn(\n",
            "Downloading...\n",
            "From: https://drive.google.com/uc?id=1QLR5ax5KZGDH7bkQf1c9Hp59BILsiI3Q\n",
            "To: /content/Q6-Sentences.txt\n",
            "100% 500/500 [00:00<00:00, 2.06MB/s]\n"
          ]
        }
      ]
    },
    {
      "cell_type": "code",
      "source": [
        "sentences = []\n",
        "\n",
        "with open(\"Q1-Sentences.txt\") as f:\n",
        "  lines = f.readlines()\n",
        "\n",
        "for line in lines:\n",
        "  sentences.append(line.split(':')[1].strip())\n",
        "\n",
        "sentences"
      ],
      "metadata": {
        "colab": {
          "base_uri": "https://localhost:8080/"
        },
        "id": "erqSs9TytYHl",
        "outputId": "9eaf66f9-6704-40ce-8fab-b6591aff0607"
      },
      "execution_count": null,
      "outputs": [
        {
          "output_type": "execute_result",
          "data": {
            "text/plain": [
              "['انتخابات هفته آینده رادر تهران برگزار میکنیم ، اما دسته بندی حوزهها برای رأی گیری از این هفته آغاز شده است',\n",
              " 'توانتشارخبرمهم در رسانه ها را تایید کردی',\n",
              " 'پسردکتراحمدی درکارنامه حرفه ای خود ۱۸سریال تلویزیونی و ۱۲فیلم سینمایی دارد',\n",
              " 'نقّاشی ساختمان به پایان رسیدددددددد',\n",
              " 'اللة اکبر گویان وارد مسجد شد',\n",
              " 'دکتر جان مممممممممممممممنونم که مشکلات حرکتي فرزندم را درمان کردید']"
            ]
          },
          "metadata": {},
          "execution_count": 8
        }
      ]
    },
    {
      "cell_type": "code",
      "source": [
        "sentences2 = []\n",
        "\n",
        "with open(\"Q6-Sentences.txt\") as f:\n",
        "  lines = f.readlines()\n",
        "\n",
        "for line in lines:\n",
        "  sentences2.append(line.split(':')[1].strip())\n",
        "\n",
        "sentences2"
      ],
      "metadata": {
        "colab": {
          "base_uri": "https://localhost:8080/"
        },
        "id": "J532lkm4tlIo",
        "outputId": "06a30efc-b27b-4ee6-ad73-c40e37e8ccfd"
      },
      "execution_count": null,
      "outputs": [
        {
          "output_type": "execute_result",
          "data": {
            "text/plain": [
              "['رشد اختصاد و تحرك زندگي اجتماعي',\n",
              " 'حجم سادرات ايران',\n",
              " 'فدراسيون فوتكال كشور',\n",
              " 'در جريان انعكاس مسابغاط صبح',\n",
              " 'اقلام عمده وازدات كشور',\n",
              " 'اصل مشركت مردمي',\n",
              " 'وزارت کشوور جمهوري اسلامي ايران',\n",
              " 'جلسه علني ديروز منجلسه شوراي اسلامي']"
            ]
          },
          "metadata": {},
          "execution_count": 6
        }
      ]
    },
    {
      "cell_type": "markdown",
      "source": [
        "# **Tokenization**\n"
      ],
      "metadata": {
        "id": "ImoNZPdntxSl"
      }
    },
    {
      "cell_type": "code",
      "source": [
        "#Hazm\n",
        "for sent in sentences:\n",
        "  print(hazm.word_tokenize(sent))"
      ],
      "metadata": {
        "colab": {
          "base_uri": "https://localhost:8080/"
        },
        "id": "3QWiZ6mHt0QO",
        "outputId": "baf78031-a5d5-4ac3-92f5-dafc55b08f2e"
      },
      "execution_count": null,
      "outputs": [
        {
          "output_type": "stream",
          "name": "stdout",
          "text": [
            "['انتخابات', 'هفته', 'آینده', 'رادر', 'تهران', 'برگزار', 'میکنیم', '،', 'اما', 'دسته', 'بندی', 'حوزهها', 'برای', 'رأی', 'گیری', 'از', 'این', 'هفته', 'آغاز', 'شده_است']\n",
            "['توانتشارخبرمهم', 'در', 'رسانه', 'ها', 'را', 'تایید', 'کردی']\n",
            "['پسردکتراحمدی', 'درکارنامه', 'حرفه', 'ای', 'خود', '۱۸', 'سریال', 'تلویزیونی', 'و', '۱۲', 'فیلم', 'سینمایی', 'دارد']\n",
            "['نقّاشی', 'ساختمان', 'به', 'پایان', 'رسیدددددددد']\n",
            "['اللة', 'اکبر', 'گویان', 'وارد', 'مسجد', 'شد']\n",
            "['دکتر', 'جان', 'مممممممممممممممنونم', 'که', 'مشکلات', 'حرکتي', 'فرزندم', 'را', 'درمان', 'کردید']\n"
          ]
        }
      ]
    },
    {
      "cell_type": "code",
      "source": [
        "#Parsivar\n",
        "from parsivar import Tokenizer\n",
        "\n",
        "tokenizer = Tokenizer()\n",
        "\n",
        "for sent in sentences:\n",
        "  print(tokenizer.tokenize_words(sent))"
      ],
      "metadata": {
        "colab": {
          "base_uri": "https://localhost:8080/"
        },
        "id": "fj3aRB6muE4d",
        "outputId": "305261d2-2719-480c-84fa-91266a87ad9e"
      },
      "execution_count": null,
      "outputs": [
        {
          "output_type": "stream",
          "name": "stdout",
          "text": [
            "['انتخابات', 'هفته', 'آینده', 'رادر', 'تهران', 'برگزار', 'میکنیم', '،', 'اما', 'دسته', 'بندی', 'حوزهها', 'برای', 'رأی', 'گیری', 'از', 'این', 'هفته', 'آغاز', 'شده', 'است']\n",
            "['توانتشارخبرمهم', 'در', 'رسانه', 'ها', 'را', 'تایید', 'کردی']\n",
            "['پسردکتراحمدی', 'درکارنامه', 'حرفه', 'ای', 'خود', '۱۸سریال', 'تلویزیونی', 'و', '۱۲فیلم', 'سینمایی', 'دارد']\n",
            "['نقّاشی', 'ساختمان', 'به', 'پایان', 'رسیدددددددد']\n",
            "['اللة', 'اکبر', 'گویان', 'وارد', 'مسجد', 'شد']\n",
            "['دکتر', 'جان', 'مممممممممممممممنونم', 'که', 'مشکلات', 'حرکتي', 'فرزندم', 'را', 'درمان', 'کردید']\n"
          ]
        }
      ]
    },
    {
      "cell_type": "code",
      "source": [
        "#Polyglot\n",
        "from polyglot.text import Text\n",
        "\n",
        "for sent in sentences:\n",
        "  print(Text(sent).words)"
      ],
      "metadata": {
        "colab": {
          "base_uri": "https://localhost:8080/"
        },
        "id": "nKT3SflMuK_t",
        "outputId": "f8aa0c79-06e0-4098-d451-3c999c9ef9d8"
      },
      "execution_count": null,
      "outputs": [
        {
          "output_type": "stream",
          "name": "stdout",
          "text": [
            "['انتخابات', 'هفته', 'آینده', 'رادر', 'تهران', 'برگزار', 'میکنیم', '،', 'اما', 'دسته', 'بندی', 'حوزهها', 'برای', 'رأی', 'گیری', 'از', 'این', 'هفته', 'آغاز', 'شده', 'است']\n",
            "['توانتشارخبرمهم', 'در', 'رسانه', 'ها', 'را', 'تایید', 'کردی']\n",
            "['پسردکتراحمدی', 'درکارنامه', 'حرفه', 'ای', 'خود', '۱۸سریال', 'تلویزیونی', 'و', '۱۲فیلم', 'سینمایی', 'دارد']\n",
            "['نقّاشی', 'ساختمان', 'به', 'پایان', 'رسیدددددددد']\n",
            "['اللة', 'اکبر', 'گویان', 'وارد', 'مسجد', 'شد']\n",
            "['دکتر', 'جان', 'مممممممممممممممنونم', 'که', 'مشکلات', 'حرکتي', 'فرزندم', 'را', 'درمان', 'کردید']\n"
          ]
        }
      ]
    },
    {
      "cell_type": "code",
      "source": [],
      "metadata": {
        "id": "0tjZNx4FuVBe"
      },
      "execution_count": null,
      "outputs": []
    },
    {
      "cell_type": "markdown",
      "source": [
        "#Normalization"
      ],
      "metadata": {
        "id": "-8WZLe_TuWoN"
      }
    },
    {
      "cell_type": "markdown",
      "source": [
        "##Hazm"
      ],
      "metadata": {
        "id": "fos6t0DFwKXK"
      }
    },
    {
      "cell_type": "code",
      "source": [
        "\n",
        "from hazm import Normalizer\n",
        "\n",
        "normalizer = Normalizer()\n",
        "\n",
        "\n",
        "for sent in sentences:\n",
        "  print(normalizer.normalize(sent))"
      ],
      "metadata": {
        "colab": {
          "base_uri": "https://localhost:8080/"
        },
        "id": "ScHpyWiJuXnm",
        "outputId": "56f4ab2c-7bd4-4447-f0e3-bd2e51103c1f"
      },
      "execution_count": null,
      "outputs": [
        {
          "output_type": "stream",
          "name": "stdout",
          "text": [
            "انتخابات هفته آینده رادر تهران برگزار می‌کنیم، اما دسته‌بندی حوزه‌ها برای رأی‌گیری از این هفته آغاز شده است\n",
            "توانتشارخبرمهم در رسانه‌ها را تایید کردی\n",
            "پسردکتراحمدی درکارنامه حرفه‌ای خود ۱۸ سریال تلویزیونی و ۱۲ فیلم سینمایی دارد\n",
            "نقاشی ساختمان به پایان رسید\n",
            "اللة اکبر گویان وارد مسجد شد\n",
            "دکتر جان ممنونم که مشکلات حرکتی فرزندم را درمان کردید\n"
          ]
        }
      ]
    },
    {
      "cell_type": "code",
      "source": [
        "from hazm import InformalNormalizer\n",
        "\n",
        "normalizer = InformalNormalizer()\n",
        "\n",
        "\n",
        "for sent in sentences:\n",
        "  print(normalizer.normalize(sent))"
      ],
      "metadata": {
        "colab": {
          "base_uri": "https://localhost:8080/"
        },
        "id": "-K1OG90pu-Sq",
        "outputId": "e2e7afd5-933c-4c4e-fc21-902d18608ab7"
      },
      "execution_count": null,
      "outputs": [
        {
          "output_type": "stream",
          "name": "stdout",
          "text": [
            "[[['انتخابات'], ['هفته'], ['آینده'], ['رادر'], ['تهران'], ['برگزار'], ['می\\u200cکنیم'], ['،'], ['اما'], ['دسته'], ['بندی'], ['حوزه\\u200cها'], ['برای'], ['رأی'], ['گیری'], ['از'], ['این'], ['هفته'], ['آغاز'], ['شده_است']]]\n",
            "[[['توانتشارخبرمهم'], ['در'], ['رسانه\\u200cها'], ['را'], ['تایید'], ['کردی']]]\n",
            "[[['پسردکتراحمدی'], ['درکارنامه'], ['حرفه\\u200cای'], ['خود'], ['۱۸'], ['سریال'], ['تلویزیونی'], ['و'], ['۱۲'], ['فیلم'], ['سینمایی'], ['دارد']]]\n",
            "[[['نقاشی'], ['ساختمان'], ['به'], ['پایان'], ['رسیدد']]]\n",
            "[[['اللة'], ['اکبر'], ['گویان'], ['وارد'], ['مسجد'], ['شد']]]\n",
            "[[['دکتر'], ['جان'], ['ممنونم'], ['که'], ['مشکلات'], ['حرکتی'], ['فرزندم'], ['را'], ['درمان'], ['کردید']]]\n"
          ]
        }
      ]
    },
    {
      "cell_type": "code",
      "source": [
        "from hazm import Normalizer, InformalNormalizer\n",
        "\n",
        "normalizer = Normalizer(persian_style=True, persian_numbers=True, remove_diacritics=True)\n",
        "informal_normalizer = InformalNormalizer()\n",
        "\n",
        "for sent in sentences:\n",
        "  print(sent)\n",
        "  norm_sent = informal_normalizer.normalize(sent)\n",
        "  norm_sent = [word[0] for word in norm_sent[0]]\n",
        "  norm_sent = ' '.join(norm_sent)\n",
        "  norm_sent = normalizer.normalize(norm_sent)\n",
        "  print(norm_sent)\n",
        "  print('***********************************')"
      ],
      "metadata": {
        "colab": {
          "base_uri": "https://localhost:8080/"
        },
        "id": "KebJzVgOvKaq",
        "outputId": "0dda5cf8-f8a1-45ef-87ed-65f3484fee32"
      },
      "execution_count": null,
      "outputs": [
        {
          "output_type": "stream",
          "name": "stdout",
          "text": [
            "انتخابات هفته آینده رادر تهران برگزار میکنیم ، اما دسته بندی حوزهها برای رأی گیری از این هفته آغاز شده است\n",
            "انتخابات هفته آینده رادر تهران برگزار می‌کنیم، اما دسته‌بندی حوزه‌ها برای رأی‌گیری از این هفته آغاز شده_است\n",
            "***********************************\n",
            "توانتشارخبرمهم در رسانه ها را تایید کردی\n",
            "توانتشارخبرمهم در رسانه‌ها را تایید کردی\n",
            "***********************************\n",
            "پسردکتراحمدی درکارنامه حرفه ای خود ۱۸سریال تلویزیونی و ۱۲فیلم سینمایی دارد\n",
            "پسردکتراحمدی درکارنامه حرفه‌ای خود ۱۸ سریال تلویزیونی و ۱۲ فیلم سینمایی دارد\n",
            "***********************************\n",
            "نقّاشی ساختمان به پایان رسیدددددددد\n",
            "نقاشی ساختمان به پایان رسیدد\n",
            "***********************************\n",
            "اللة اکبر گویان وارد مسجد شد\n",
            "اللة اکبر گویان وارد مسجد شد\n",
            "***********************************\n",
            "دکتر جان مممممممممممممممنونم که مشکلات حرکتي فرزندم را درمان کردید\n",
            "دکتر جان ممنونم که مشکلات حرکتی فرزندم را درمان کردید\n",
            "***********************************\n"
          ]
        }
      ]
    },
    {
      "cell_type": "code",
      "source": [],
      "metadata": {
        "id": "XoIjGvaEv-kB"
      },
      "execution_count": null,
      "outputs": []
    },
    {
      "cell_type": "markdown",
      "source": [
        "#Parsivar"
      ],
      "metadata": {
        "id": "ilZVlJkiwQWS"
      }
    },
    {
      "cell_type": "code",
      "source": [
        "from parsivar import Normalizer\n",
        "\n",
        "normalizer = Normalizer()\n",
        "\n",
        "for sent in sentences:\n",
        "  print(normalizer.normalize(sent))"
      ],
      "metadata": {
        "colab": {
          "base_uri": "https://localhost:8080/"
        },
        "id": "-dG97n7qwRtM",
        "outputId": "e3aa6210-96eb-4e4e-b671-d1a128c5ddc0"
      },
      "execution_count": null,
      "outputs": [
        {
          "output_type": "stream",
          "name": "stdout",
          "text": [
            "انتخابات هفته آینده رادر تهران برگزار می‌کنیم ، اما دسته‌بندی حوزهها برای رای‌گیری از این هفته آغاز‌شده‌است\n",
            "توانتشارخبرمهم در رسانه‌ها را تایید کردی\n",
            "پسردکتراحمدی درکارنامه حرفه‌ای خود 18سریال تلویزیونی و 12فیلم سینمایی دارد\n",
            "نقّاشی ساختمان به پایان رسیدددددددد\n",
            "الله اکبر گویان وارد مسجد شد\n",
            "دکتر جان مممممممممممممممنونم که مشکلات حرکتی فرزندم را درمان کردید\n"
          ]
        }
      ]
    },
    {
      "cell_type": "code",
      "source": [],
      "metadata": {
        "id": "7aVatjWTwWca"
      },
      "execution_count": null,
      "outputs": []
    },
    {
      "cell_type": "markdown",
      "source": [
        "#Persianutils"
      ],
      "metadata": {
        "id": "A98KQImMwYU7"
      }
    },
    {
      "cell_type": "code",
      "source": [
        "import persianutils as pu\n",
        "\n",
        "for sent in sentences:\n",
        "  print(pu.standardize(sent))"
      ],
      "metadata": {
        "colab": {
          "base_uri": "https://localhost:8080/"
        },
        "id": "6A2DW77gwZKZ",
        "outputId": "9388fa5c-5b63-4aa3-a760-65d4aeaf9c63"
      },
      "execution_count": null,
      "outputs": [
        {
          "output_type": "stream",
          "name": "stdout",
          "text": [
            "انتخابات هفته اینده رادر تهران برگزار میکنیم ، اما دسته بندی حوزهها برای رای گیری از این هفته اغاز شده است\n",
            "توانتشارخبرمهم در رسانه ها را تایید کردی\n",
            "پسردکتراحمدی درکارنامه حرفه ای خود ۱۸سریال تلویزیونی و ۱۲فیلم سینمایی دارد\n",
            "نقاشی ساختمان به پایان رسیدددددددد\n",
            "الله اکبر گویان وارد مسجد شد\n",
            "دکتر جان مممممممممممممممنونم که مشکلات حرکتی فرزندم را درمان کردید\n"
          ]
        }
      ]
    },
    {
      "cell_type": "markdown",
      "source": [
        "#Stemming"
      ],
      "metadata": {
        "id": "XJc1qna1weZg"
      }
    },
    {
      "cell_type": "code",
      "source": [
        "#Hazm\n",
        "from hazm import Stemmer\n",
        "\n",
        "stemmer = Stemmer()\n",
        "\n",
        "for sent in sentences:\n",
        "  stems = []\n",
        "  print(sent)\n",
        "  words = sent.split(\" \")\n",
        "  for word in words:\n",
        "    stems.append(stemmer.stem(word))\n",
        "  print(stems)\n",
        "  print(\"**********************\")"
      ],
      "metadata": {
        "colab": {
          "base_uri": "https://localhost:8080/"
        },
        "id": "bPfTBYdqwfMd",
        "outputId": "fdf41945-17ed-45f9-9c34-b16831ce7001"
      },
      "execution_count": null,
      "outputs": [
        {
          "output_type": "stream",
          "name": "stdout",
          "text": [
            "انتخابات هفته آینده رادر تهران برگزار میکنیم ، اما دسته بندی حوزهها برای رأی گیری از این هفته آغاز شده است\n",
            "['انتخاب', 'هفته', 'آینده', 'رادر', 'تهر', 'برگزار', 'میکن', '،', 'اما', 'دسته', 'بند', 'حوزه', 'برا', 'رأ', 'گیر', 'از', 'این', 'هفته', 'آغاز', 'شده', 'اس']\n",
            "**********************\n",
            "توانتشارخبرمهم در رسانه ها را تایید کردی\n",
            "['توانتشارخبرمه', 'در', 'رسانه', '', 'را', 'تایید', 'کرد']\n",
            "**********************\n",
            "پسردکتراحمدی درکارنامه حرفه ای خود ۱۸سریال تلویزیونی و ۱۲فیلم سینمایی دارد\n",
            "['پسردکتراحمد', 'درکارنامه', 'حرفه', 'ا', 'خود', '۱۸سریال', 'تلویزیون', 'و', '۱۲فیل', 'سینما', 'دارد']\n",
            "**********************\n",
            "نقّاشی ساختمان به پایان رسیدددددددد\n",
            "['نقّاش', 'ساخ', 'به', 'پا', 'رسیدددددددد']\n",
            "**********************\n",
            "اللة اکبر گویان وارد مسجد شد\n",
            "['اللة', 'اکبر', 'گو', 'وارد', 'مسجد', 'شد']\n",
            "**********************\n",
            "دکتر جان مممممممممممممممنونم که مشکلات حرکتي فرزندم را درمان کردید\n",
            "['دک', 'ج', 'مممممممممممممممنون', 'که', 'مشکل', 'حرکتي', 'فرزند', 'را', 'در', 'کردید']\n",
            "**********************\n"
          ]
        }
      ]
    },
    {
      "cell_type": "code",
      "source": [
        "#Parsivar\n",
        "from parsivar import FindStems\n",
        "from parsivar import Tokenizer\n",
        "\n",
        "tokenizer = Tokenizer()\n",
        "stemmer = FindStems()\n",
        "\n",
        "for sent in sentences:\n",
        "  stems = []\n",
        "  print(sent)\n",
        "  words = sent.split(\" \")\n",
        "  for word in words:\n",
        "    stems.append(stemmer.convert_to_stem(word))\n",
        "  print(stems)\n",
        "  print(\"**********************\")"
      ],
      "metadata": {
        "colab": {
          "base_uri": "https://localhost:8080/"
        },
        "id": "dQG_oyPsw2Vv",
        "outputId": "cdcd6469-92d8-4c8d-cc9e-4e1ebd6a135b"
      },
      "execution_count": null,
      "outputs": [
        {
          "output_type": "stream",
          "name": "stdout",
          "text": [
            "انتخابات هفته آینده رادر تهران برگزار میکنیم ، اما دسته بندی حوزهها برای رأی گیری از این هفته آغاز شده است\n",
            "['انتخابات', 'هفته', 'آینده', 'رادر', 'تهران', 'برگزار', 'کرد&کن', '،', 'اما', 'دسته', 'بند', 'حوزه', 'برای', 'رأی', 'گرفت&گیر', 'از', 'این', 'هفته', 'آغاز', 'شده', 'اس']\n",
            "**********************\n",
            "توانتشارخبرمهم در رسانه ها را تایید کردی\n",
            "['توانتشارخبرمهم', 'در', 'رسانه', 'ها', 'را', 'تایید', 'کردی']\n",
            "**********************\n",
            "پسردکتراحمدی درکارنامه حرفه ای خود ۱۸سریال تلویزیونی و ۱۲فیلم سینمایی دارد\n",
            "['پسردکتراحمدی', 'درکارنامه', 'حرفه', 'ای', 'خود', '۱۸سریال', 'تلویزیونی', 'و', '۱۲فیلم', 'سینمایی', 'داشت&دارد']\n",
            "**********************\n",
            "نقّاشی ساختمان به پایان رسیدددددددد\n",
            "['نقّاشی', 'ساختمان', 'به', 'پایان', 'رسیدددددددد']\n",
            "**********************\n",
            "اللة اکبر گویان وارد مسجد شد\n",
            "['اللة', 'اکبر', 'گوی', 'وارد', 'مسجد', 'شد']\n",
            "**********************\n",
            "دکتر جان مممممممممممممممنونم که مشکلات حرکتي فرزندم را درمان کردید\n",
            "['دکتر', 'جان', 'مممممممممممممممنونم', 'که', 'مشکلات', 'حرکتي', 'فرزند', 'را', 'درمان', 'کرد&کن']\n",
            "**********************\n"
          ]
        }
      ]
    },
    {
      "cell_type": "markdown",
      "source": [
        "#Lemmatization"
      ],
      "metadata": {
        "id": "YCe096zhxAFO"
      }
    },
    {
      "cell_type": "code",
      "source": [
        "#Hazm\n",
        "from hazm import Lemmatizer\n",
        "\n",
        "lemmatizer = Lemmatizer()\n",
        "\n",
        "for sent in sentences:\n",
        "  lems = []\n",
        "  print(sent)\n",
        "  words = sent.split(\" \")\n",
        "  for word in words:\n",
        "    lems.append(lemmatizer.lemmatize(word))\n",
        "  print(lems)\n",
        "  print(\"**********************\")"
      ],
      "metadata": {
        "colab": {
          "base_uri": "https://localhost:8080/"
        },
        "id": "y02GnfnnxBOh",
        "outputId": "ba067786-7325-478b-acd9-2cdc05e8e9bf"
      },
      "execution_count": null,
      "outputs": [
        {
          "output_type": "stream",
          "name": "stdout",
          "text": [
            "انتخابات هفته آینده رادر تهران برگزار میکنیم ، اما دسته بندی حوزهها برای رأی گیری از این هفته آغاز شده است\n",
            "['انتخابات', 'هفته', 'آینده', 'رادر', 'تهران', 'برگزار', 'میکنیم', '،', 'اما', 'دسته', 'بست#بند', 'حوزه', 'برای', 'رأی', 'گرفت#گیر', 'از', 'این', 'هفته', 'آغاز', 'شده', 'است']\n",
            "**********************\n",
            "توانتشارخبرمهم در رسانه ها را تایید کردی\n",
            "['توانتشارخبرمهم', 'در', 'رسانه', 'ها', 'را', 'تایید', 'کردی']\n",
            "**********************\n",
            "پسردکتراحمدی درکارنامه حرفه ای خود ۱۸سریال تلویزیونی و ۱۲فیلم سینمایی دارد\n",
            "['پسردکتراحمدی', 'درکارنامه', 'حرفه', 'ای', 'خود', '۱۸سریال', 'تلویزیون', 'و', '۱۲فیلم', 'سینمایی', 'داشت#دار']\n",
            "**********************\n",
            "نقّاشی ساختمان به پایان رسیدددددددد\n",
            "['نقّاش', 'ساختمان', 'به', 'پایان', 'رسیدددددددد']\n",
            "**********************\n",
            "اللة اکبر گویان وارد مسجد شد\n",
            "['اللة', 'اکبر', 'گویان', 'وارد', 'مسجد', 'شد#شو']\n",
            "**********************\n",
            "دکتر جان مممممممممممممممنونم که مشکلات حرکتي فرزندم را درمان کردید\n",
            "['دکتر', 'جان', 'مممممممممممممممنونم', 'که', 'مشکلات', 'حرکتي', 'فرزند', 'را', 'درمان', 'کرد#کن']\n",
            "**********************\n"
          ]
        }
      ]
    },
    {
      "cell_type": "code",
      "source": [],
      "metadata": {
        "id": "YMtomARwxL6F"
      },
      "execution_count": null,
      "outputs": []
    },
    {
      "cell_type": "markdown",
      "source": [
        "#Stopword Removal"
      ],
      "metadata": {
        "id": "aiY9M4rIxMXC"
      }
    },
    {
      "cell_type": "code",
      "source": [
        "#Hazm\n",
        "!git clone https://github.com/sobhe/hazm"
      ],
      "metadata": {
        "colab": {
          "base_uri": "https://localhost:8080/"
        },
        "id": "UeYiSoJKxQCO",
        "outputId": "d031de3e-ea94-41ab-be9f-efe8280d9943"
      },
      "execution_count": 13,
      "outputs": [
        {
          "output_type": "stream",
          "name": "stdout",
          "text": [
            "Cloning into 'hazm'...\n",
            "remote: Enumerating objects: 8674, done.\u001b[K\n",
            "remote: Counting objects: 100% (2069/2069), done.\u001b[K\n",
            "remote: Compressing objects: 100% (451/451), done.\u001b[K\n",
            "remote: Total 8674 (delta 1774), reused 1758 (delta 1610), pack-reused 6605 (from 1)\u001b[K\n",
            "Receiving objects: 100% (8674/8674), 24.34 MiB | 23.21 MiB/s, done.\n",
            "Resolving deltas: 100% (5563/5563), done.\n"
          ]
        }
      ]
    },
    {
      "cell_type": "code",
      "source": [
        "from hazm import stopwords_list\n",
        "\n",
        "stopwords = stopwords_list(\"/content/hazm/hazm/data/stopwords.dat\")\n",
        "\n",
        "for sent in sentences:\n",
        "  sents_without_stopword = []\n",
        "  print(sent)\n",
        "  words = sent.split(\" \")\n",
        "  for word in words:\n",
        "    if word not in stopwords:\n",
        "      sents_without_stopword.append(word)\n",
        "  print(sents_without_stopword)\n",
        "  print(\"**********************\")"
      ],
      "metadata": {
        "colab": {
          "base_uri": "https://localhost:8080/"
        },
        "id": "nNCGgOuKxZtY",
        "outputId": "c0b15adf-0e26-4c51-b257-29b2cd8a58f1"
      },
      "execution_count": null,
      "outputs": [
        {
          "output_type": "stream",
          "name": "stdout",
          "text": [
            "انتخابات هفته آینده رادر تهران برگزار میکنیم ، اما دسته بندی حوزهها برای رأی گیری از این هفته آغاز شده است\n",
            "['انتخابات', 'هفته', 'آینده', 'رادر', 'تهران', 'برگزار', 'میکنیم', '،', 'حوزهها', 'رأی', 'هفته', 'آغاز']\n",
            "**********************\n",
            "توانتشارخبرمهم در رسانه ها را تایید کردی\n",
            "['توانتشارخبرمهم', 'رسانه', 'ها', 'تایید', 'کردی']\n",
            "**********************\n",
            "پسردکتراحمدی درکارنامه حرفه ای خود ۱۸سریال تلویزیونی و ۱۲فیلم سینمایی دارد\n",
            "['پسردکتراحمدی', 'درکارنامه', 'حرفه', 'ای', '۱۸سریال', 'تلویزیونی', '۱۲فیلم', 'سینمایی']\n",
            "**********************\n",
            "نقّاشی ساختمان به پایان رسیدددددددد\n",
            "['نقّاشی', 'ساختمان', 'پایان', 'رسیدددددددد']\n",
            "**********************\n",
            "اللة اکبر گویان وارد مسجد شد\n",
            "['اللة', 'اکبر', 'گویان', 'مسجد']\n",
            "**********************\n",
            "دکتر جان مممممممممممممممنونم که مشکلات حرکتي فرزندم را درمان کردید\n",
            "['دکتر', 'جان', 'مممممممممممممممنونم', 'مشکلات', 'حرکتي', 'فرزندم', 'درمان', 'کردید']\n",
            "**********************\n"
          ]
        }
      ]
    },
    {
      "cell_type": "code",
      "source": [],
      "metadata": {
        "id": "FB7IJCq1xlWR"
      },
      "execution_count": null,
      "outputs": []
    },
    {
      "cell_type": "markdown",
      "source": [
        "#sample"
      ],
      "metadata": {
        "id": "2T-gV2Hrx0j1"
      }
    },
    {
      "cell_type": "code",
      "source": [
        "!pip install hazm\n"
      ],
      "metadata": {
        "colab": {
          "base_uri": "https://localhost:8080/"
        },
        "id": "hk1tlubaDyf_",
        "outputId": "bebee852-5669-4af8-b4c1-234053158440"
      },
      "execution_count": 2,
      "outputs": [
        {
          "output_type": "stream",
          "name": "stdout",
          "text": [
            "Requirement already satisfied: hazm in /usr/local/lib/python3.11/dist-packages (0.10.0)\n",
            "Requirement already satisfied: fasttext-wheel<0.10.0,>=0.9.2 in /usr/local/lib/python3.11/dist-packages (from hazm) (0.9.2)\n",
            "Requirement already satisfied: flashtext<3.0,>=2.7 in /usr/local/lib/python3.11/dist-packages (from hazm) (2.7)\n",
            "Requirement already satisfied: gensim<5.0.0,>=4.3.1 in /usr/local/lib/python3.11/dist-packages (from hazm) (4.3.3)\n",
            "Requirement already satisfied: nltk<4.0.0,>=3.8.1 in /usr/local/lib/python3.11/dist-packages (from hazm) (3.9.1)\n",
            "Requirement already satisfied: numpy==1.24.3 in /usr/local/lib/python3.11/dist-packages (from hazm) (1.24.3)\n",
            "Requirement already satisfied: python-crfsuite<0.10.0,>=0.9.9 in /usr/local/lib/python3.11/dist-packages (from hazm) (0.9.11)\n",
            "Requirement already satisfied: scikit-learn<2.0.0,>=1.2.2 in /usr/local/lib/python3.11/dist-packages (from hazm) (1.6.1)\n",
            "Requirement already satisfied: pybind11>=2.2 in /usr/local/lib/python3.11/dist-packages (from fasttext-wheel<0.10.0,>=0.9.2->hazm) (2.13.6)\n",
            "Requirement already satisfied: setuptools>=0.7.0 in /usr/local/lib/python3.11/dist-packages (from fasttext-wheel<0.10.0,>=0.9.2->hazm) (75.1.0)\n",
            "Requirement already satisfied: scipy<1.14.0,>=1.7.0 in /usr/local/lib/python3.11/dist-packages (from gensim<5.0.0,>=4.3.1->hazm) (1.13.1)\n",
            "Requirement already satisfied: smart-open>=1.8.1 in /usr/local/lib/python3.11/dist-packages (from gensim<5.0.0,>=4.3.1->hazm) (7.1.0)\n",
            "Requirement already satisfied: click in /usr/local/lib/python3.11/dist-packages (from nltk<4.0.0,>=3.8.1->hazm) (8.1.8)\n",
            "Requirement already satisfied: joblib in /usr/local/lib/python3.11/dist-packages (from nltk<4.0.0,>=3.8.1->hazm) (1.4.2)\n",
            "Requirement already satisfied: regex>=2021.8.3 in /usr/local/lib/python3.11/dist-packages (from nltk<4.0.0,>=3.8.1->hazm) (2024.11.6)\n",
            "Requirement already satisfied: tqdm in /usr/local/lib/python3.11/dist-packages (from nltk<4.0.0,>=3.8.1->hazm) (4.67.1)\n",
            "Requirement already satisfied: threadpoolctl>=3.1.0 in /usr/local/lib/python3.11/dist-packages (from scikit-learn<2.0.0,>=1.2.2->hazm) (3.5.0)\n",
            "Requirement already satisfied: wrapt in /usr/local/lib/python3.11/dist-packages (from smart-open>=1.8.1->gensim<5.0.0,>=4.3.1->hazm) (1.17.2)\n"
          ]
        }
      ]
    },
    {
      "cell_type": "code",
      "source": [
        "from hazm import *\n",
        "normalizer = Normalizer()\n"
      ],
      "metadata": {
        "id": "MaZDaL6DDk-5"
      },
      "execution_count": 1,
      "outputs": []
    },
    {
      "cell_type": "code",
      "source": [
        "normalizer.normalize('اصلاح نويسه ها و استفاده از نیم‌فاصله پردازش را آسان مي كند')\n",
        "'اصلاح نویسه‌ها و استفاده از نیم‌فاصله پردازش را آسان می‌کند'\n"
      ],
      "metadata": {
        "colab": {
          "base_uri": "https://localhost:8080/",
          "height": 35
        },
        "id": "F10cLDfDEANX",
        "outputId": "3f72ce28-f995-4ed5-c834-eb6088b3256c"
      },
      "execution_count": 3,
      "outputs": [
        {
          "output_type": "execute_result",
          "data": {
            "text/plain": [
              "'اصلاح نویسه\\u200cها و استفاده از نیم\\u200cفاصله پردازش را آسان می\\u200cکند'"
            ],
            "application/vnd.google.colaboratory.intrinsic+json": {
              "type": "string"
            }
          },
          "metadata": {},
          "execution_count": 3
        }
      ]
    },
    {
      "cell_type": "code",
      "source": [
        "sent_tokenize('ما هم برای وصل کردن آمدیم! ولی برای پردازش، جدا بهتر نیست؟')\n"
      ],
      "metadata": {
        "colab": {
          "base_uri": "https://localhost:8080/"
        },
        "id": "rKM2UqpVEDSc",
        "outputId": "14a3a7c3-4712-4daa-9184-3e8d0dd9806f"
      },
      "execution_count": 4,
      "outputs": [
        {
          "output_type": "execute_result",
          "data": {
            "text/plain": [
              "['ما هم برای وصل کردن آمدیم!', 'ولی برای پردازش، جدا بهتر نیست؟']"
            ]
          },
          "metadata": {},
          "execution_count": 4
        }
      ]
    },
    {
      "cell_type": "code",
      "source": [
        "word_tokenize('ولی برای پردازش، جدا بهتر نیست؟')"
      ],
      "metadata": {
        "colab": {
          "base_uri": "https://localhost:8080/"
        },
        "id": "t-Jd-kEKEF7d",
        "outputId": "a7b2104b-3326-439e-a2d5-b5e1be9bcb3b"
      },
      "execution_count": 5,
      "outputs": [
        {
          "output_type": "execute_result",
          "data": {
            "text/plain": [
              "['ولی', 'برای', 'پردازش', '،', 'جدا', 'بهتر', 'نیست', '؟']"
            ]
          },
          "metadata": {},
          "execution_count": 5
        }
      ]
    },
    {
      "cell_type": "code",
      "source": [
        "stemmer = Stemmer()\n"
      ],
      "metadata": {
        "id": "Mo7c_feiEH1N"
      },
      "execution_count": 6,
      "outputs": []
    },
    {
      "cell_type": "code",
      "source": [
        "stemmer.stem('کتاب‌ها')\n"
      ],
      "metadata": {
        "colab": {
          "base_uri": "https://localhost:8080/",
          "height": 35
        },
        "id": "jHZBl7iPEJck",
        "outputId": "df108eac-c2e9-4fca-f87b-b3fe75c44a34"
      },
      "execution_count": 7,
      "outputs": [
        {
          "output_type": "execute_result",
          "data": {
            "text/plain": [
              "'کتاب'"
            ],
            "application/vnd.google.colaboratory.intrinsic+json": {
              "type": "string"
            }
          },
          "metadata": {},
          "execution_count": 7
        }
      ]
    },
    {
      "cell_type": "code",
      "source": [
        "lemmatizer = Lemmatizer()\n"
      ],
      "metadata": {
        "id": "UpExGd00ELfl"
      },
      "execution_count": 8,
      "outputs": []
    },
    {
      "cell_type": "code",
      "source": [
        "lemmatizer.lemmatize('می‌روم')\n"
      ],
      "metadata": {
        "colab": {
          "base_uri": "https://localhost:8080/",
          "height": 35
        },
        "id": "w5dTLxYRENkn",
        "outputId": "e4bac646-b39e-49e4-d55f-f2f43cd70ebe"
      },
      "execution_count": 9,
      "outputs": [
        {
          "output_type": "execute_result",
          "data": {
            "text/plain": [
              "'رفت#رو'"
            ],
            "application/vnd.google.colaboratory.intrinsic+json": {
              "type": "string"
            }
          },
          "metadata": {},
          "execution_count": 9
        }
      ]
    },
    {
      "cell_type": "code",
      "source": [],
      "metadata": {
        "id": "_dCrPquyEy3V"
      },
      "execution_count": null,
      "outputs": []
    },
    {
      "cell_type": "markdown",
      "source": [
        "Refrence:\n",
        "https://www.roshan-ai.ir/hazm/docs/index.html\n"
      ],
      "metadata": {
        "id": "PdAZGtR6EzeH"
      }
    }
  ]
}