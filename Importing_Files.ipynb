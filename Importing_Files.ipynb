{
  "nbformat": 4,
  "nbformat_minor": 0,
  "metadata": {
    "colab": {
      "provenance": [],
      "collapsed_sections": [
        "0ezCnvng8eHu",
        "cDkbjZ6x8id5",
        "OZOQHFbg8ut5",
        "CdHyDkFI9O6m",
        "dwryGFv69egi",
        "zpPFlPmY9vQF"
      ]
    },
    "kernelspec": {
      "name": "python3",
      "display_name": "Python 3"
    },
    "language_info": {
      "name": "python"
    }
  },
  "cells": [
    {
      "cell_type": "markdown",
      "source": [
        "# Local Machine"
      ],
      "metadata": {
        "id": "0ezCnvng8eHu"
      }
    },
    {
      "cell_type": "code",
      "execution_count": null,
      "metadata": {
        "id": "Ayj3yXrT8Xo1"
      },
      "outputs": [],
      "source": [
        "import os\n",
        "\n",
        "os.getcwd()                                      # Get the current working directory.\n",
        "os.chdir('path-to-desired-working-directory')    # Change the current working directory.\n"
      ]
    },
    {
      "cell_type": "markdown",
      "source": [
        "# Google Colab\n"
      ],
      "metadata": {
        "id": "cDkbjZ6x8id5"
      }
    },
    {
      "cell_type": "code",
      "source": [
        "from google.colab import drive\n",
        "drive.mount('/content/drive')\n"
      ],
      "metadata": {
        "id": "NOI8Iu5I8mfK"
      },
      "execution_count": null,
      "outputs": []
    },
    {
      "cell_type": "code",
      "source": [
        "import os\n",
        "\n",
        "print (sorted(os.listdir()))    # Will list content in the current working directory\n",
        "                                # you can change it by filling in a path to a directory.\n",
        "os.chdir('path-to-desired-working-directory')    # Change working directory\n",
        "\n",
        "# Now you are ready to import \"test.txt\"\n"
      ],
      "metadata": {
        "id": "boGcBKIv8o95"
      },
      "execution_count": null,
      "outputs": []
    },
    {
      "cell_type": "markdown",
      "source": [
        "# Importing Files (Reading Text Files)\n",
        "Text files are one of the most common file formats to store data. In Python, you can use the open() function to read the .txt files.\n",
        "\n",
        "Notice that the open() function takes two input parameters: file path (or file name if the file is in the current working directory) and the file access mode. There are many modes for opening a file:\n",
        "\n",
        "\n",
        "\n",
        "* open('path','r'): opens a file in read mode\n",
        "* open('path',w'): opens or creates a text file in write mode\n",
        "* open('path',a'): opens a file in append mode\n",
        "* open('path','r+'): opens a file in both read and write mode\n",
        "* open('path',w+'): opens a file in both read and write mode\n",
        "* open('path',a+'): opens a file in both read and write mode\n",
        "\n",
        "\n",
        "After opening the file with the read mode, you can also use the following function to access or examine the Information stored in the file:\n",
        "\n",
        "\n",
        "\n",
        "* .read(<number>): This function reads the complete information from the file unless a number is specified. Otherwise, it will read the first n bytes from the text files.\n",
        "* .readline(<number>): This function reads the information from the file but not more than one line of information unless a number is specified. Otherwise, it will read the first n bytes from the text files. It is usually used in loops\n",
        "* .readlines() – This function reads the complete information in the file and prints them as well in a list format"
      ],
      "metadata": {
        "id": "OZOQHFbg8ut5"
      }
    },
    {
      "cell_type": "code",
      "source": [
        "text_file = open('path-to-file','r')    # Full path to the txt file, or simply the file name\n",
        "                                        # if the file is in your current working directory\n"
      ],
      "metadata": {
        "id": "px9Giacy89xW"
      },
      "execution_count": null,
      "outputs": []
    },
    {
      "cell_type": "code",
      "source": [
        "text_file.read()    # Read complete information from the file\n"
      ],
      "metadata": {
        "id": "jZNsjpuG9IDe"
      },
      "execution_count": null,
      "outputs": []
    },
    {
      "cell_type": "markdown",
      "source": [
        "# Importing Files (Reading CVS Files)\n",
        "The CSV (or Comma Separated Value) files are also one of the most common file formats that data scientists work with. The name \"Comma Separated\" means that those files use a “,” as a delimiter to separate the values.\n",
        "\n",
        "We usually use the Pandas library to read CSV files:\n",
        "\n"
      ],
      "metadata": {
        "id": "CdHyDkFI9O6m"
      }
    },
    {
      "cell_type": "code",
      "source": [
        "import pandas as pd\n",
        "\n",
        "dataframe = pd.read_csv('path-to-file')    # Full path to the txt file, or simply the file name\n",
        "                                           # if the file is in your current working directory\n"
      ],
      "metadata": {
        "id": "nXZvgJub9YQT"
      },
      "execution_count": null,
      "outputs": []
    },
    {
      "cell_type": "code",
      "source": [
        "dataframe = pd.read_csv('path-to-file', sep = ';')\n"
      ],
      "metadata": {
        "id": "yS72Ym_q9alW"
      },
      "execution_count": null,
      "outputs": []
    },
    {
      "cell_type": "markdown",
      "source": [
        "# Importing Files (Reading Excel Files)\n",
        "Pandas library also has a function, read_excel(), to read Excel files:\n",
        "\n"
      ],
      "metadata": {
        "id": "dwryGFv69egi"
      }
    },
    {
      "cell_type": "code",
      "source": [
        "dataframe = pd.read_excel('path-to-file')    # Full path to the txt file, or simply the file name\n",
        "dataframe = pd.read_excel('path-to-file', sheet_name='sheet-name')\n",
        "\n",
        "#You can get the list of dataframe headers using the columns property of the dataframe object.\n",
        "print(dataframe.columns.ravel())\n",
        "\n",
        "#Sometimes, you might want to use one column of data for Analysis. To do this, you can get the column data and convert it into a list of values.\n",
        "print(dataframe['column-name'].tolist())\n",
        "\n"
      ],
      "metadata": {
        "id": "G_iBNvZB9g_n"
      },
      "execution_count": null,
      "outputs": []
    },
    {
      "cell_type": "markdown",
      "source": [
        "# Importing Files (Extracting from Zip Files)\n",
        "To open a ZIP folder, you will first need to import the zip file library in Python, which is in the standard library as well, so no additional installation is needed.\n",
        "\n"
      ],
      "metadata": {
        "id": "zpPFlPmY9vQF"
      }
    },
    {
      "cell_type": "code",
      "source": [
        "from zipfile import ZipFile    # Import zipfile\n",
        "\n",
        "file = 'path-to-file'          # Full path to the zip file, or simply the file name\n",
        "                               # if the file is in your current working directory\n",
        "zip_file = ZipFile(file, 'r')  # Read zipfile and extract contents\n",
        "zip_file.printdir()            # List files in the zip files\n",
        "zip_file.extractall()          # Extract files in the zip file\n"
      ],
      "metadata": {
        "id": "jA2R3bzH9xeX"
      },
      "execution_count": null,
      "outputs": []
    },
    {
      "cell_type": "markdown",
      "source": [
        "# Importing Files (Working with JSON Files)\n",
        "JSON (JavaScript Object Notation) files store data within square brackets {}, which is similar to how a dictionary stores information in Python. The major benefit of JSON files is that they are language-independent, meaning they can be used with any programming language.\n",
        "\n",
        "Python has a built-in json module to read JSON files. The read function is json.load() function, which takes a JSON file and returns a JSON dictionary.\n",
        "\n"
      ],
      "metadata": {
        "id": "JgIZg9nL93-l"
      }
    },
    {
      "cell_type": "code",
      "source": [
        "import json\n",
        "\n",
        "\n",
        "file = open('path-to-file')    # Full path to the json file, or simply the file name\n",
        "                               # if the firle is in your current working directory\n",
        "json_file = json.load(file)    # Returns JSON object as a dictionary\n"
      ],
      "metadata": {
        "id": "vwpS1R8Q96Zf"
      },
      "execution_count": null,
      "outputs": []
    },
    {
      "cell_type": "code",
      "source": [
        "#Once you have executed the code above, you can convert it into a Pandas dataframe using the pandas.DataFrame() function:\n",
        "\n",
        "dataframe = pd.DataFrame(json_file)\n"
      ],
      "metadata": {
        "id": "wNVx8K1g97-N"
      },
      "execution_count": null,
      "outputs": []
    },
    {
      "cell_type": "code",
      "source": [
        "#You can also load the JSON file directly into a dataframe using the pandas.read_json() function:\n",
        "dataframe = pd.read_json('path-to-file')\n",
        "\n"
      ],
      "metadata": {
        "id": "nEj-GrC39-9-"
      },
      "execution_count": null,
      "outputs": []
    },
    {
      "cell_type": "markdown",
      "source": [
        "# Importing Files (Web Scraping)\n",
        "Web Scraping refers to the task of extracting data from a website. Python contains powerful modules to retrieve data from websites for future analysis.\n",
        "\n",
        "The get() function in the requests package takes a URL as its parameter and returns the HTML response as its output. Then, Python packages the scraping request from the website, sends the request to the server, receives the HTML response, and stores it in a Python object.\n",
        "\n"
      ],
      "metadata": {
        "id": "SfLcbTJD-N_2"
      }
    },
    {
      "cell_type": "code",
      "source": [
        "import requests\n",
        "\n",
        "url = \"https://aitechtools.ir/SitBlog//59\"\n",
        "response = requests.get(url)    # Generate response object\n",
        "text = response.text            # Return the HTML of webpage as string\n",
        "print(text)\n"
      ],
      "metadata": {
        "colab": {
          "base_uri": "https://localhost:8080/"
        },
        "id": "EEIf7dg1-Sl-",
        "outputId": "b57a3aa5-b9a2-464d-9094-325b963fc857"
      },
      "execution_count": 1,
      "outputs": [
        {
          "output_type": "stream",
          "name": "stdout",
          "text": [
            "\r\n",
            "\r\n",
            "<!DOCTYPE html>\r\n",
            "\r\n",
            "<html>\r\n",
            "<head><meta charset=\"utf-8\" /><meta name=\"enamad\" content=\"28213564\" /><meta content=\"width=device-width, initial-scale=1.0\" name=\"viewport\" /><title>\r\n",
            "\tAI Tech Tools   ابزار و راه حل های هوش مصنوعی \r\n",
            "</title><meta name=\"description\" content=\"AI Tech Tools   ابزار و راه حل های هوش مصنوعی\" /><meta name=\"keywords\" content=\"Ai,Deep learning,Tools,Python\" />\r\n",
            "\r\n",
            "    <!-- Favicons -->\r\n",
            "    <link href=\"https://aitechtools.ir/output-onlinepngtools.png\" rel=\"icon\" /><link href=\"https://aitechtools.ir/output-onlinepngtools.png\" rel=\"apple-touch-icon\" />\r\n",
            "\r\n",
            "    <!-- Fonts -->\r\n",
            "    <link href=\"https://fonts.googleapis.com\" rel=\"preconnect\" /><link href=\"https://fonts.gstatic.com\" rel=\"preconnect\" crossorigin=\"\" /><link href=\"https://fonts.googleapis.com/css2?family=Roboto:ital,wght@0,100;0,300;0,400;0,500;0,700;0,900;1,100;1,300;1,400;1,500;1,700;1,900&amp;family=Inter:wght@100;200;300;400;500;600;700;800;900&amp;family=Nunito:ital,wght@0,200;0,300;0,400;0,500;0,600;0,700;0,800;0,900;1,200;1,300;1,400;1,500;1,600;1,700;1,800;1,900&amp;display=swap\" rel=\"stylesheet\" />\r\n",
            "\r\n",
            "    <!-- Vendor CSS Files -->\r\n",
            "    <link href=\"https://aitechtools.ir/assets/vendor/bootstrap/css/bootstrap.min.css\" rel=\"stylesheet\" /><link href=\"https://aitechtools.ir/assets/vendor/bootstrap-icons/bootstrap-icons.css\" rel=\"stylesheet\" /><link href=\"https://aitechtools.ir/assets/vendor/aos/aos.css\" rel=\"stylesheet\" /><link href=\"https://aitechtools.ir/assets/vendor/glightbox/css/glightbox.min.css\" rel=\"stylesheet\" /><link href=\"https://aitechtools.ir/assets/vendor/swiper/swiper-bundle.min.css\" rel=\"stylesheet\" />\r\n",
            "\r\n",
            "    <!-- Main CSS File -->\r\n",
            "    <link href=\"https://aitechtools.ir/assets/css/main.css\" rel=\"stylesheet\" /><link href=\"https://aitechtools.ir/CSS/Public.css\" rel=\"stylesheet\" /></head>\r\n",
            "<body class=\"index-page\">\r\n",
            "\r\n",
            "\r\n",
            "    <header id=\"header\" class=\"header d-flex align-items-center fixed-top\" style=\"background:white\">\r\n",
            "        <div class=\"container-fluid container-xl position-relative d-flex align-items-center\">\r\n",
            "\r\n",
            "            <a href=\"https://aitechtools.ir\" class=\"logo d-flex align-items-center me-auto\">\r\n",
            "                <img src=\"https://aitechtools.ir/logo.png\" alt=\"\">\r\n",
            "                \r\n",
            "            </a>\r\n",
            "\r\n",
            "            <nav id=\"navmenu\" class=\"navmenu\">\r\n",
            "                <ul>\r\n",
            "\r\n",
            "                   <li><a href=\"https://aitechtools.ir//SitBlog/7\">تماس با ما</a></li>\r\n",
            "                   \r\n",
            "                    <li><a href=\"https://aitechtools.ir//ListBlog/1\">وبلاگ</a></li>                    \r\n",
            "                    <li><a href=\"https://aitechtools.ir/default.aspx#faq\">سوالات متداول </a></li>\r\n",
            "\t\t\t\t\t<li><a href=\"https://aitechtools.ir/default.aspx#services\">ابزار های هوش مصنوعی</a></li>\r\n",
            "                  <li><a href=\"https://aitechtools.ir/default.aspx#hero\" class=\"active\">خانه</a></li>\r\n",
            "\r\n",
            "\r\n",
            "\r\n",
            "\r\n",
            "                    \r\n",
            "                </ul>\r\n",
            "                <i class=\"mobile-nav-toggle d-xl-none bi bi-list\"></i>\r\n",
            "            </nav>\r\n",
            "\r\n",
            "            <a class=\"btn-getstarted\" href=\"https://aitechtools.ir/default.aspx#about\">هوش مصنوعی؟</a>\r\n",
            "\r\n",
            "        </div>\r\n",
            "    </header>\r\n",
            "    <main class=\"main\">\r\n",
            "        <form name=\"aspnetForm\" method=\"post\" action=\"./59\" id=\"aspnetForm\">\r\n",
            "<input type=\"hidden\" name=\"__VIEWSTATE\" id=\"__VIEWSTATE\" value=\"/wEPDwULLTE3NTIzNzI0MDVkZB946DfPi8wxRQg+pRAFPgL6A4SksjqMFVYscxa1G8Ly\" />\r\n",
            "\r\n",
            "<input type=\"hidden\" name=\"__VIEWSTATEGENERATOR\" id=\"__VIEWSTATEGENERATOR\" value=\"47E6CC57\" />\r\n",
            "            <div>\r\n",
            "                \r\n",
            "\r\n",
            "\r\n",
            "\r\n",
            "\r\n",
            "    \r\n",
            "\r\n",
            " <!-- Page Title -->\r\n",
            "    <div class=\"page-title\" data-aos=\"fade\">\r\n",
            "      <div class=\"container d-lg-flex justify-content-between align-items-center\">\r\n",
            "        <h1 class=\"mb-2 mb-lg-0\">Service Details</h1>\r\n",
            "        <nav class=\"breadcrumbs\">\r\n",
            "          <ol>\r\n",
            "            <li><a href=\"index.html\">Home</a></li>\r\n",
            "            <li class=\"current\">Service Details</li>\r\n",
            "          </ol>\r\n",
            "        </nav>\r\n",
            "      </div>\r\n",
            "    </div><!-- End Page Title -->\r\n",
            "\r\n",
            "    <!-- Service Details Section -->\r\n",
            "    <section id=\"service-details\" class=\"service-details section\">\r\n",
            "\r\n",
            "      <div class=\"container\">\r\n",
            "\r\n",
            "        <div class=\"row gy-5\">\r\n",
            "\r\n",
            "          <div class=\"col-lg-4\" data-aos=\"fade-up\" data-aos-delay=\"100\" hidden>\r\n",
            "\t\t\t\r\n",
            "            <div class=\"service-box\"  >\r\n",
            "              <h4> Chatbots</h4>\r\n",
            "              <div class=\"services-list\">\r\n",
            "                <div class=\"col \" data-aos=\"fade-up\" data-aos-delay=\"100\">\r\n",
            "                    <div class=\" \">\r\n",
            "                        \r\n",
            "                        <div>\r\n",
            "                          \r\n",
            "                           <a target=\"_blank\" href=\"https://chatgpt.com/\" class=\"read-more stretched-link\">ChatGPT </a>\r\n",
            "\t\t\t\t\t\t\t                 \r\n",
            "\t\t\t\t\t\t\t\r\n",
            "                           <a target=\"_blank\" href=\"https://www.deepseek.com/\" class=\"read-more stretched-link\">DeepSeek </a> \r\n",
            "                            <a target=\"_blank\" href=\"https://claude.ai\" class=\"read-more stretched-link\">Claude </a>\r\n",
            "                       \r\n",
            "                            <a target=\"_blank\" href=\"https://www.meta.ai\" class=\"read-more stretched-link\">Meta AI </a>\r\n",
            "                           \r\n",
            "\r\n",
            "                        </div>\r\n",
            "                    </div>\r\n",
            "                </div>\r\n",
            "              </div>\r\n",
            "            </div><!-- End Services List -->\r\n",
            " <div class=\"service-box\" >\r\n",
            "              <h4> Grammar checkers and rewording tools</h4>\r\n",
            "              <div class=\"services-list\">\r\n",
            "                <div class=\"col \" data-aos=\"fade-up\" data-aos-delay=\"100\">\r\n",
            "                    <div class=\" \">\r\n",
            "                       <div>\r\n",
            "                            \r\n",
            "\r\n",
            "<a target=\"_blank\" href=\"https://www.grammarly.com/\" class=\"read-more stretched-link\">Grammarly </a>\r\n",
            "                            <a target=\"_blank\" href=\"https://www.wordtune.com/\" class=\"read-more stretched-link\">Wordtune </a>\r\n",
            "                           <a target=\"_blank\" href=\"https://prowritingaid.com/\" class=\"read-more stretched-link\">ProWritingAid </a>\r\n",
            "\r\n",
            "\r\n",
            "                        </div>\r\n",
            "                    </div>\r\n",
            "                </div>\r\n",
            "              </div>\r\n",
            "            </div><!-- End Services List -->\r\n",
            "\r\n",
            "            \r\n",
            "\r\n",
            "            <div class=\"help-box d-flex flex-column justify-content-center align-items-center\">\r\n",
            "              <i class=\"bi bi-headset help-icon\"></i>\r\n",
            "              <h4>با ما در ارتباط باشید</h4>\r\n",
            "              <p class=\"d-flex align-items-center mt-2 mb-0\"><i class=\"bi bi-telephone me-2\"></i> <span>09125053609</span></p>\r\n",
            "              <p class=\"d-flex align-items-center mt-1 mb-0\"><i class=\"bi bi-envelope me-2\"></i> <a href=\"mailto:info@aitechtools.ir\">info@aitechtools.ir</a></p>\r\n",
            "            </div>\r\n",
            "\r\n",
            "          </div>\r\n",
            "\r\n",
            "          <div class=\"col-lg-12 ps-lg-5 service-box\" data-aos=\"fade-up\" data-aos-delay=\"200\" style=\"text-align: justify; direction: rtl!Important;\">\r\n",
            "\t\t\t  <div  style=\"direction:rtl;text-align:center!important\">\r\n",
            "\t\t\t\t  <img src=\"assets/img/services.jpg\" alt=\"\" class=\"img-fluid services-img\">\r\n",
            "\t\t\t  </div>\r\n",
            "            \r\n",
            "\t\t\t  <img style='border-radius: 30px; max-width: 100%' src=\"https://aitechtools.ir/UploadedFiles\\Member255357961.png\" />\r\n",
            "          <h3 id=\"Title\" style=\"direction:rtl;text-align:center\">معرفی Deep Research</h3>\r\n",
            "           <p style=\"text-align: justify; direction: rtl!Important;\"><p style=\"text-align: justify;\">امروز در حال راه&zwnj;اندازی تحقیقات عمیق در ChatGPT هستند، یک قابلیت جدید که تحقیقات چند مرحله&zwnj;ای را در اینترنت برای کارهای پیچیده انجام می&zwnj;دهد. در ده&zwnj;ها دقیقه کاری را انجام می&zwnj;دهد که یک انسان ساعت&zwnj;ها طول می&zwnj;کشد.</p>\r\n",
            "<p style=\"text-align: justify;\">&nbsp;</p>\r\n",
            "<p style=\"text-align: justify;\">Deep Research عامل بعدی OpenAI است که می تواند به طور مستقل کار را برای شما انجام دهد - شما به آن دستور می دهید و ChatGPT صدها منبع آنلاین را پیدا، تجزیه و تحلیل و ترکیب می کند تا یک گزارش جامع در سطح یک تحلیلگر تحقیقاتی ایجاد کند. با استفاده از نسخه&zwnj;ای از مدل آتی OpenAI o3 که برای مرور وب و تجزیه و تحلیل داده&zwnj;ها بهینه شده است، از استدلال برای جستجو، تفسیر و تجزیه و تحلیل حجم عظیمی از متن، تصاویر و فایل&zwnj;های PDF در اینترنت استفاده می&zwnj;کند و در صورت لزوم در واکنش به اطلاعات آن چرخش می&zwnj;دهد. برخورد می کند.</p>\r\n",
            "<p style=\"text-align: justify;\">OpenAI &laquo;عامل هوش مصنوعی&raquo; (AI agent) جدیدی معرفی کرده که به کاربران در تحقیقات عمیق و پیچیده با استفاده از ChatGPT کمک می&zwnj;کند. این قابلیت فعلاً فقط برای کاربران اشتراک پولی پرو منتشر شده است.</p>\r\n",
            "<p style=\"text-align: justify;\">&nbsp;</p>\r\n",
            "<p style=\"text-align: justify;\">این قابلیت جدید برای افرادی که کار علمی فشرده در زمینه&zwnj;های مالی، سیاسی، مهندسی و... انجام می&zwnj;دهند و به تحقیقات کامل، دقیق و قابل&zwnj;اعتماد نیاز دارند، طراحی شده است. البته OpenAI می&zwnj;گوید این قابلیت همچنین می&zwnj;تواند برای هرکسی می&zwnj;خواهد چیزی بخرد که معمولاً به تحقیق دقیق نیاز دارد، مانند اتومبیل، لوازم خانگی و مبلمان، مفید باشد.</p>\r\n",
            "<p style=\"text-align: justify;\">&nbsp;</p>\r\n",
            "<p class=\"MsoNormal\"><span lang=\"AR-SA\" style=\"font-family: 'Arial','sans-serif'; mso-ascii-font-family: Calibri; mso-ascii-theme-font: minor-latin; mso-hansi-font-family: Calibri; mso-hansi-theme-font: minor-latin;\"><a href=\"https://openai.com/index/introducing-deep-research/\"><span dir=\"RTL\">برای اطلاعات بیشتر اینجا کلیک کنید</span></a></span></p>\r\n",
            "<p style=\"text-align: justify;\">&nbsp;</p></p>\r\n",
            "            <div id=\"ctl00_ContentPlaceHolder1_DivDownload\" class=\"row \" style=\"text-align: center\">\r\n",
            "            </div>\r\n",
            "          </div>\r\n",
            "\r\n",
            "        </div>\r\n",
            "\r\n",
            "      </div>\r\n",
            "\r\n",
            "    </section><!-- /Service Details Section -->\r\n",
            "\r\n",
            "            </div>\r\n",
            "        </form>\r\n",
            "    </main>\r\n",
            "\r\n",
            "    <footer id=\"footer\" class=\"footer position-relative light-background\">\r\n",
            "\r\n",
            "        <div class=\"container footer-top\">\r\n",
            "            <div class=\"row gy-4\">\r\n",
            "                <div class=\"col-lg-4 col-md-6 footer-about\">\r\n",
            "                    <a href=\"default.aspx\" class=\"logo d-flex align-items-center\">\r\n",
            "                        <span class=\"sitename\">Ai Tech Tools</span>\r\n",
            "                    </a>\r\n",
            "\t\t\t\t\t  <hr/>\r\n",
            "                    <div class=\"footer-contact pt-3\">\r\n",
            "                        <p>ایران - تهران میدان ونک</p>\r\n",
            "                      \r\n",
            "                        <p class=\"mt-3\"><strong>Phone:</strong> <span>+98 9125053609</span></p>\r\n",
            "                        <p><strong>Email:</strong> <span>info@aitechtools.ir</span></p>\r\n",
            "                    </div>\r\n",
            "                    <div class=\"social-links d-flex mt-4\">\r\n",
            "                        <a href=\"\"><i class=\"bi bi-twitter-x\"></i></a>\r\n",
            "                        <a href=\"\"><i class=\"bi bi-facebook\"></i></a>\r\n",
            "                        <a href=\"\"><i class=\"bi bi-instagram\"></i></a>\r\n",
            "                        <a href=\"\"><i class=\"bi bi-linkedin\"></i></a>\r\n",
            "                    </div>\r\n",
            "                </div>\r\n",
            "\r\n",
            "                <div class=\"col-lg-2 col-md-3 footer-links\">\r\n",
            "                    <h4 style=\"text-align:right;direction:rtl\">لینک های مفید</h4>\r\n",
            "\t\t\t\t\t  <hr/>\r\n",
            "                    <ul>\r\n",
            "                      \r\n",
            "                        <li><a href=\"https://aitechtools.ir/default.aspx#about\">خانه</a></li>\r\n",
            "                        <li><a href=\"https://aitechtools.ir/default.aspx#features\">درباره ما</a></li>\r\n",
            "                        <li><a href=\"https://aitechtools.ir/default.aspx#services\">خدمات ما</a></li>\r\n",
            "                        <li><a href=\"https://aitechtools.ir//ListBlog/1\">وبلاگ</a></li>\r\n",
            "                        <li><a href=\"https://aitechtools.ir/default.aspx#faq\">سوالات متداول</a></li>\r\n",
            "                    </ul>\r\n",
            "                </div>\r\n",
            "\r\n",
            "               \r\n",
            "\r\n",
            "                <div class=\"col-lg-6 col-md-12 footer-newsletter\">\r\n",
            "                    <h4 style=\"text-align:right;direction:rtl\">درباره ما </h4>\r\n",
            "\t\t\t\t\t  <hr/>\r\n",
            "                    <p style=\"direction:rtl;text-align:justify\">\r\n",
            "                        \r\n",
            "\t\t\t\t\t\tهوش مصنوعی (AI) در حال حاضر بخشی از زندگی همه ما است و پیشرفت‌های اخیر هوش مصنوعی را برای افراد و مشاغل قابل دسترس‌تر کرده است. اکنون برای یک سازمان ساده تر از همیشه است که سیستم هایی را برای پیش بینی رفتار آینده یا تعامل با مشتریان ایجاد کند. این به این معنی است که درک خوبی از توانایی های هوش مصنوعی و اخلاقیات پیرامون استفاده از هوش مصنوعی ضروری است.\r\n",
            "\r\n",
            "                    </p>\r\n",
            "                    <form action=\"forms/newsletter.php\" method=\"post\" class=\"php-email-form\">\r\n",
            "                        <div class=\"newsletter-form\">\r\n",
            "                            <input type=\"email\" name=\"email\"><input type=\"submit\" value=\"Subscribe\"></div>\r\n",
            "                        <div class=\"loading\">Loading</div>\r\n",
            "                        <div class=\"error-message\"></div>\r\n",
            "                        <div class=\"sent-message\">Your subscription request has been sent. Thank you!</div>\r\n",
            "                    </form>\r\n",
            "                </div>\r\n",
            "\r\n",
            "            </div>\r\n",
            "        </div>\r\n",
            "\r\n",
            "        <div class=\"container copyright text-center mt-4\">\r\n",
            "            <p>© <span>Copyright</span> <strong class=\"px-1 sitename\">Ai Tech Tools</strong><span>All Rights Reserved</span></p>\r\n",
            "            <div class=\"credits\">\r\n",
            "                <!-- All the links in the footer should remain intact. -->\r\n",
            "                <!-- You can delete the links only if you've purchased the pro version. -->\r\n",
            "                <!-- Licensing information: https://bootstrapmade.com/license/ -->\r\n",
            "                <!-- Purchase the pro version with working PHP/AJAX contact form: [buy-url] -->\r\n",
            "                Designed by <a href=\"https://aitechtools.ir/\">Ai tech tools </a>\r\n",
            "            </div>\r\n",
            "        </div>\r\n",
            "\r\n",
            "    </footer>\r\n",
            "\r\n",
            "    <!-- Scroll Top -->\r\n",
            "    <a href=\"#\" id=\"scroll-top\" class=\"scroll-top d-flex align-items-center justify-content-center\"><i class=\"bi bi-arrow-up-short\"></i></a>\r\n",
            "\r\n",
            "    <!-- Preloader -->\r\n",
            "    <div id=\"preloader\"></div>\r\n",
            "\r\n",
            "    <!-- Vendor JS Files -->\r\n",
            "    <script src=\"https://aitechtools.ir/assets/vendor/bootstrap/js/bootstrap.bundle.min.js\"></script>\r\n",
            "    <script src=\"https://aitechtools.ir/assets/vendor/php-email-form/validate.js\"></script>\r\n",
            "    <script src=\"https://aitechtools.ir/assets/vendor/aos/aos.js\"></script>\r\n",
            "    <script src=\"https://aitechtools.ir/assets/vendor/glightbox/js/glightbox.min.js\"></script>\r\n",
            "    <script src=\"https://aitechtools.ir/assets/vendor/swiper/swiper-bundle.min.js\"></script>\r\n",
            "\r\n",
            "    <!-- Main JS File -->\r\n",
            "    <script src=\"https://aitechtools.ir/assets/js/main.js\"></script>\r\n",
            "\t\r\n",
            "\t<script type=\"text/javascript\">\r\n",
            "  !function(){var i=\"sxBzJb\",a=window,d=document;function g(){var g=d.createElement(\"script\"),s=\"https://www.goftino.com/widget/\"+i,l=localStorage.getItem(\"goftino_\"+i);g.async=!0,g.src=l?s+\"?o=\"+l:s;d.getElementsByTagName(\"head\")[0].appendChild(g);}\"complete\"===d.readyState?g():a.attachEvent?a.attachEvent(\"onload\",g):a.addEventListener(\"load\",g,!1);}();\r\n",
            "</script>\r\n",
            "</body>\r\n",
            "</html>\r\n",
            "\n"
          ]
        }
      ]
    }
  ]
}