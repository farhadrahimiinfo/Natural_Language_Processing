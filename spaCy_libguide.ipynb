{
  "cells": [
    {
      "cell_type": "markdown",
      "metadata": {
        "id": "5fCEDCU_qrC0"
      },
      "source": [
        "<div class=\"markdown-google-sans\">\n",
        "  <h1>About spaCy</h1>\n",
        "</div>\n",
        "\n",
        "spaCy is a free, open-source library for advanced Natural Language Processing (NLP) in Python. It is designed for production use which helps users to comprehend large volumes of text. It has a wide range of applications in information extraction, natural language understanding, and text pre-processing.\n",
        "\n",
        "spaCy is also a powerful package that helps simplify data and derive in-depth information from input text messages. Its features and capabilities give insights into a text’s grammatical structure that can be particularly helpful in the following fields.\n",
        "\n",
        "- **Sentence detection and Tokenization**: spaCy can break the input text into linguistically meaningful or basic units for future analyses.\n",
        "- **Stop word removal**: spaCy can remove the common words in English so that they would not distort tasks such as word frequency analysis.\n",
        "- **Text summarization**: spaCy can reduce ambiguity, summarize, and extract the most relevant information, such as a person, location, or company, from the text for analysis through its Lemmatization and Named Entity Recognition feature.\n",
        "- **Language translation**: spaCy and other natural language processing tools can use deep learning to translate speech and text into different languages, even for specialized fields and domains.\n",
        "- **Dependency and similarity parsing**: spaCy assign syntactic dependency labels that study how the words are related to each other in the given test.\n",
        "- **Rule-based matching**: spaCy can extract specified patterns in the text, such as full names, phone numbers, and birthdays.\n",
        "\n",
        "spaCy comes with a built-in visualizer called displaCy that visualizes a dependency parse or named entities in a browser or a Jupyter notebook."
      ]
    },
    {
      "cell_type": "markdown",
      "metadata": {
        "id": "GJBs_flRovLc"
      },
      "source": [
        "<div class=\"markdown-google-sans\">\n",
        "\n",
        "# **Using spaCy**\n",
        "</div>\n",
        "\n"
      ]
    },
    {
      "cell_type": "markdown",
      "source": [
        "### **Installation**"
      ],
      "metadata": {
        "id": "Ans8WJUUj8qI"
      }
    },
    {
      "cell_type": "markdown",
      "source": [
        "SpaCy (together with its data and models) can be installed using the python package index and setup tools.\n",
        "\n",
        "Use the following command to install spacy using pip install on your machine:\n"
      ],
      "metadata": {
        "id": "JEq-dwpxj_aP"
      }
    },
    {
      "cell_type": "code",
      "source": [
        "# [Mac Terminal]\n",
        "\n",
        "# pip3 install -U pip setuptools wheel\n",
        "# pip3 install -U spacy\n",
        "\n",
        "# [Jupyter Notebook]\n",
        "\n",
        "# import sys\n",
        "# !{sys.executable} -m pip install spacy\n",
        "# !{sys.executable} -m spacy download en\n",
        "\n",
        "# [Conda install]\n",
        "\n",
        "# conda install -c conda-forge spacy\n",
        "# python -m spacy download en_core_web_sm"
      ],
      "metadata": {
        "id": "s8aj7OGAkCcx"
      },
      "execution_count": null,
      "outputs": []
    },
    {
      "cell_type": "markdown",
      "source": [
        "### **Statistical Model**\n",
        "\n",
        "spaCy offers statistical models for a variety of languages, which can be installed as individual modules in Python. These models are powerful engines of spaCy that performs several NLP-related tasks, such as part-of-speech tagging, named entity recognition, and dependency parsing.\n",
        "\n",
        "You can download these models for the English language by executing the following code:\n"
      ],
      "metadata": {
        "id": "cEHSWnOUcwD6"
      }
    },
    {
      "cell_type": "code",
      "source": [
        "# [Mac Terminal]\n",
        "\n",
        "# python3 -m spacy download en_core_web_lg\n",
        "# python3 -m spacy download en_core_web_sm\n",
        "\n",
        "# [Jupyter Notebook]\n",
        "\n",
        "!python3 -m spacy download en_core_web_sm\n",
        "!python3 -m spacy download en_core_web_lg\n",
        "\n",
        "# [Conda install]\n",
        "\n",
        "# conda install -c conda-forge spacy-model-en_core_web_sm\n",
        "# conda install -c \"conda-forge/label/broken\" spacy-model-en_core_web_sm\n",
        "# conda install -c \"conda-forge/label/cf202003\" spacy-model-en_core_web_sm"
      ],
      "metadata": {
        "id": "8J8He3jRklXd"
      },
      "execution_count": null,
      "outputs": []
    },
    {
      "cell_type": "markdown",
      "source": [
        "Once downloaded, those models can be opened via **spacy.load('model_name')** in python. Therefore, you can verify if the models were downloaded successfully by running the following code:"
      ],
      "metadata": {
        "id": "QCjfqkKMkrY-"
      }
    },
    {
      "cell_type": "code",
      "execution_count": null,
      "metadata": {
        "id": "gJr_9dXGpJ05",
        "colab": {
          "base_uri": "https://localhost:8080/"
        },
        "outputId": "be75d5ee-ae44-4ae7-a1f0-c246e725f721"
      },
      "outputs": [
        {
          "output_type": "stream",
          "name": "stderr",
          "text": [
            "/usr/local/lib/python3.8/dist-packages/torch/cuda/__init__.py:497: UserWarning: Can't initialize NVML\n",
            "  warnings.warn(\"Can't initialize NVML\")\n"
          ]
        }
      ],
      "source": [
        "import spacy\n",
        "load_model = spacy.load('en_core_web_sm')"
      ]
    },
    {
      "cell_type": "markdown",
      "metadata": {
        "id": "2fhs6GZ4qFMx"
      },
      "source": [
        "If the nlp object is created, then it means that spaCy was installed and that models and data were successfully downloaded."
      ]
    },
    {
      "cell_type": "markdown",
      "source": [
        "### **Read Strings**\n",
        "\n",
        "For a given input string, you can use spaCy to create a processed object for accessing linguistic annotations:"
      ],
      "metadata": {
        "id": "taT51lE9copz"
      }
    },
    {
      "cell_type": "code",
      "execution_count": null,
      "metadata": {
        "id": "-gE-Ez1qtyIA"
      },
      "outputs": [],
      "source": [
        "text = ('For a given input string, you can use spaCy to create a processed object for accessing linguistic annotations.')\n",
        "nlp = load_model(text)"
      ]
    },
    {
      "cell_type": "markdown",
      "source": [
        "The input text string is then converted to an object that spaCy can understand. This method can be used to convert any text into a processed object for future analysis."
      ],
      "metadata": {
        "id": "HMKk9ePLcsOD"
      }
    },
    {
      "cell_type": "markdown",
      "source": [
        "### **Read Text File**\n",
        "\n",
        "You can also convert a .txt file into a processed object. Notice that the .txt file needs to be in the current working directory, or you will have to specify its full path. A quick reminder that you can get the current working directory with os.getcwd() and change it with os.chdir() after importing os.\n"
      ],
      "metadata": {
        "id": "iFPkM3QLc9qf"
      }
    },
    {
      "cell_type": "code",
      "source": [
        "import os\n",
        "\n",
        "from google.colab import drive\n",
        "drive.mount('/content/drive') # Change working directory on your own machine as needed with os.chdir('Path to directory')\n",
        "                              # Tutorials are also available\n",
        "\n",
        "file = 'text.txt'\n",
        "file_text = open(file).read()\n",
        "nlp = load_model(file_text)\n"
      ],
      "metadata": {
        "id": "nh9VDOhCdFaV",
        "colab": {
          "base_uri": "https://localhost:8080/",
          "height": 70
        },
        "outputId": "313073c0-dfef-40a2-bc4b-8cca9d2e316f"
      },
      "execution_count": null,
      "outputs": [
        {
          "output_type": "execute_result",
          "data": {
            "text/plain": [
              "\"\\nimport os\\n\\nfrom google.colab import drive\\ndrive.mount('/content/drive') # Change working directory on your own machine as needed with os.chdir('Path to directory')\\n                              # Tutorials are also available \\n\\nfile = 'text.txt'\\nfile_text = open(file).read()\\nnlp = load_model(file_text)\\n\""
            ],
            "application/vnd.google.colaboratory.intrinsic+json": {
              "type": "string"
            }
          },
          "metadata": {},
          "execution_count": 4
        }
      ]
    },
    {
      "cell_type": "markdown",
      "source": [
        "You may assume that variable name ending with the suffix _doc are spaCy’s language model objects."
      ],
      "metadata": {
        "id": "mf7CL_JZgOcQ"
      }
    },
    {
      "cell_type": "markdown",
      "source": [
        "<div class=\"markdown-google-sans\">\n",
        "\n",
        "# **Features**\n",
        "</div>"
      ],
      "metadata": {
        "id": "zjlHdA7LgUcg"
      }
    },
    {
      "cell_type": "markdown",
      "source": [
        "### **Sentence Detection (Sentence Boundary Detection)**\n",
        "\n",
        "Sentence Boundary Detection locates the start and end of sentences in a given text. You can divide a text into linguistically meaningful units to perform tasks such as part of speech tagging and entity extraction.\n",
        "In spaCy, the property sents can be used to extract sentences in a given input text:\n",
        "\n",
        "\n"
      ],
      "metadata": {
        "id": "WmQzEdtxgPc8"
      }
    },
    {
      "cell_type": "code",
      "source": [
        "import spacy\n",
        "load_model = spacy.load('en_core_web_sm')\n",
        "\n",
        "# Customize text or read files as needed\n",
        "# Create an nlp object\n",
        "nlp = load_model(\"Apple's name was inspired by Steve Jobs’ visit. His visit was to an apple farm while on a fruitarian diet.\")\n",
        "\n",
        "# Create a list of sentences contained in nlp. By default, the function breaks sentences by periods.\n",
        "sentences = list(nlp.sents)\n",
        "\n",
        "for sentence in sentences:\n",
        "    # Print each sentence in the nlp with one sentence a line\n",
        "    print(sentence)"
      ],
      "metadata": {
        "colab": {
          "base_uri": "https://localhost:8080/"
        },
        "id": "FHCMD5rMgdz1",
        "outputId": "360aaf61-f512-468f-be9d-7d09f434e9fe"
      },
      "execution_count": null,
      "outputs": [
        {
          "output_type": "stream",
          "name": "stdout",
          "text": [
            "Apple's name was inspired by Steve Jobs’ visit.\n",
            "His visit was to an apple farm while on a fruitarian diet.\n"
          ]
        }
      ]
    },
    {
      "cell_type": "markdown",
      "source": [
        "In the previous example, spaCy can correctly identify sentences in English by treating periods as the sentence delimiters. You can also customize the delimiter in sentence detection tasks. The following example shows the case where we set the semicolon as the delimiter by simply adjusting the input text string and separator in the custom_boundaries() functions:"
      ],
      "metadata": {
        "id": "W0GyOBsWglkh"
      }
    },
    {
      "cell_type": "code",
      "source": [
        "import spacy\n",
        "import re\n",
        "from spacy.language import Language\n",
        "\n",
        "load_model = spacy.load('en_core_web_sm')\n",
        "boundary = re.compile('^[0-9]$')\n",
        "# Customize text as needed\n",
        "text = ('Apple is read; apple is juicy; apple is sweet.')\n",
        "\n",
        "@Language.component(\"component\")\n",
        "def custom_boundaries(doc):\n",
        "    for token in doc[:-1]:\n",
        "        if token.text == ';':    # Customize delimiters for sentence detection\n",
        "            doc[token.i+1].is_sent_start = True\n",
        "    return doc\n",
        "load_model.add_pipe(\"component\", before='parser')\n",
        "\n",
        "nlp = load_model(text)\n",
        "for sentence in nlp.sents:\n",
        "    print(sentence)"
      ],
      "metadata": {
        "colab": {
          "base_uri": "https://localhost:8080/"
        },
        "id": "moUw4l0Tgmgz",
        "outputId": "7d02fc3a-e334-4fd2-b8f7-6950a23b5d43"
      },
      "execution_count": null,
      "outputs": [
        {
          "output_type": "stream",
          "name": "stdout",
          "text": [
            "Apple is read;\n",
            "apple is juicy;\n",
            "apple is sweet.\n"
          ]
        }
      ]
    },
    {
      "cell_type": "markdown",
      "source": [
        "### **Tokenization**\n",
        "\n",
        "Tokenization refers to a process of segmenting input text into words, punctuation, etc. It allows you to identify the basic units in your text that are called tokens. You can use the following code to achieve this purpose:\n"
      ],
      "metadata": {
        "id": "dE5Nakp7gy0i"
      }
    },
    {
      "cell_type": "code",
      "source": [
        "import spacy\n",
        "load_model = spacy.load(\"en_core_web_sm\")\n",
        "\n",
        "# Create an nlp object\n",
        "# Customize text as needed\n",
        "nlp = load_model(\"Apple's name was inspired by his visit to an apple farm while on a fruitarian diet.\")\n",
        "\n",
        "# Iterate over the tokens\n",
        "for token in nlp:\n",
        "    # Print tokens\n",
        "    print(token.text)\n"
      ],
      "metadata": {
        "colab": {
          "base_uri": "https://localhost:8080/"
        },
        "id": "k1PnAw9fhG3Y",
        "outputId": "8bae80ed-c0df-4b74-b2c8-9174de1e3dc4"
      },
      "execution_count": null,
      "outputs": [
        {
          "output_type": "stream",
          "name": "stdout",
          "text": [
            "Apple\n",
            "'s\n",
            "name\n",
            "was\n",
            "inspired\n",
            "by\n",
            "his\n",
            "visit\n",
            "to\n",
            "an\n",
            "apple\n",
            "farm\n",
            "while\n",
            "on\n",
            "a\n",
            "fruitarian\n",
            "diet\n",
            ".\n"
          ]
        }
      ]
    },
    {
      "cell_type": "markdown",
      "source": [
        "spaCy provides various attributes for the token class. Instead of printing token.text each time, you can also do:\n"
      ],
      "metadata": {
        "id": "ZAtBQZh6hPHQ"
      }
    },
    {
      "cell_type": "code",
      "source": [
        "for token in nlp:\n",
        "    print(token, token.is_alpha, token.is_punct, token.is_space)"
      ],
      "metadata": {
        "colab": {
          "base_uri": "https://localhost:8080/"
        },
        "id": "miudC8brhPg0",
        "outputId": "3d17fdfe-92f7-40a6-ac56-d5e4fd2b5385"
      },
      "execution_count": null,
      "outputs": [
        {
          "output_type": "stream",
          "name": "stdout",
          "text": [
            "Apple True False False\n",
            "'s False False False\n",
            "name True False False\n",
            "was True False False\n",
            "inspired True False False\n",
            "by True False False\n",
            "his True False False\n",
            "visit True False False\n",
            "to True False False\n",
            "an True False False\n",
            "apple True False False\n",
            "farm True False False\n",
            "while True False False\n",
            "on True False False\n",
            "a True False False\n",
            "fruitarian True False False\n",
            "diet True False False\n",
            ". False True False\n"
          ]
        }
      ]
    },
    {
      "cell_type": "markdown",
      "source": [
        "Where is_alpha detects if the token consists of alphabetic characters; is_punct detects if the token is a punctuation symbol; is_space detects if the token is a space.\n"
      ],
      "metadata": {
        "id": "DWfnlwWHhW_I"
      }
    },
    {
      "cell_type": "markdown",
      "source": [
        "### **Stop Words Removal**\n",
        "\n",
        "Stop words are the most common words in a language. Examples of stop words are the, who, too, and is. We usually remove the stop words because they are not significant in many text mining tasks such as word frequency analysis. You can remove stop words by using spaCy’s list of stop words for the English language:"
      ],
      "metadata": {
        "id": "O0jp7_RAhaLq"
      }
    },
    {
      "cell_type": "code",
      "source": [
        "import spacy\n",
        "load_model = spacy.load(\"en_core_web_sm\")\n",
        "\n",
        "# Create an nlp object\n",
        "nlp = load_model(\"Apple's name was inspired by his visit to an apple farm while on a fruitarian diet.\")\n",
        "\n",
        "for token in nlp:\n",
        "    if not token.is_stop:\n",
        "        print(token)\n"
      ],
      "metadata": {
        "colab": {
          "base_uri": "https://localhost:8080/"
        },
        "id": "lsdE2y76hgJG",
        "outputId": "1f0125e7-d362-4822-a77c-5f9d0fc89157"
      },
      "execution_count": null,
      "outputs": [
        {
          "output_type": "stream",
          "name": "stdout",
          "text": [
            "Apple\n",
            "inspired\n",
            "visit\n",
            "apple\n",
            "farm\n",
            "fruitarian\n",
            "diet\n",
            ".\n"
          ]
        }
      ]
    },
    {
      "cell_type": "markdown",
      "source": [
        "### **Linguistic Annotations**\n",
        "\n",
        "You can explore the text’s grammatical structure through spaCy’s linguistic annotations feature, and it also allows users to detect the type of the word (i.e, none, verb, adjective, etc.) in the speech.\n"
      ],
      "metadata": {
        "id": "oyeQt4pGhknn"
      }
    },
    {
      "cell_type": "code",
      "source": [
        "import spacy\n",
        "load_model = spacy.load(\"en_core_web_sm\")\n",
        "\n",
        "# Create an nlp object\n",
        "nlp = load_model(\"Apple's name was inspired by his visit to an apple farm while on a fruitarian diet.\")\n",
        "\n",
        "# Iterate over the tokens\n",
        "for token in nlp:\n",
        "    # Print tokens and their word type tag\n",
        "    print(token.text, token.pos_, token.dep_)\n"
      ],
      "metadata": {
        "colab": {
          "base_uri": "https://localhost:8080/"
        },
        "id": "DkmFuyoAhryM",
        "outputId": "2211e7e9-8be6-45a0-abe7-e8191b32bee0"
      },
      "execution_count": null,
      "outputs": [
        {
          "output_type": "stream",
          "name": "stdout",
          "text": [
            "Apple PROPN poss\n",
            "'s PART case\n",
            "name NOUN nsubjpass\n",
            "was AUX auxpass\n",
            "inspired VERB ROOT\n",
            "by ADP agent\n",
            "his PRON poss\n",
            "visit NOUN pobj\n",
            "to ADP prep\n",
            "an DET det\n",
            "apple NOUN compound\n",
            "farm NOUN pobj\n",
            "while SCONJ mark\n",
            "on ADP prep\n",
            "a DET det\n",
            "fruitarian ADJ amod\n",
            "diet NOUN pobj\n",
            ". PUNCT punct\n"
          ]
        }
      ]
    },
    {
      "cell_type": "markdown",
      "source": [
        "Executing the code above will return a processed output, within it, you will see that the text is split into individual words and annotated by their word type.\n"
      ],
      "metadata": {
        "id": "PKsBWQ0mhtqy"
      }
    },
    {
      "cell_type": "markdown",
      "source": [
        "### **Word Frequency**\n",
        "\n",
        "Word frequency is an analysis that gives you insights into word patterns, such as common words or unique words in the text:\n"
      ],
      "metadata": {
        "id": "x2cqTCb0hvsa"
      }
    },
    {
      "cell_type": "code",
      "source": [
        "import spacy\n",
        "from collections import Counter\n",
        "\n",
        "load_model = spacy.load('en_core_web_sm')\n",
        "text = ('Apple\\'s name was inspired by his visit to an apple farm while he was on a fruitarian diet')\n",
        "text_doc = load_model(text)\n",
        "\n",
        "# Remove stop words and punctuation symbols\n",
        "words = [token.text for token in text_doc if not token.is_stop and not token.is_punct]\n",
        "word_freq = Counter(words)\n",
        "\n",
        "# 5 commonly occurring words with their frequencies\n",
        "common_words = word_freq.most_common(5)\n",
        "print(common_words)\n",
        "\n",
        "# Unique words\n",
        "unique_words = [word for (word, freq) in word_freq.items() if freq == 1]\n",
        "print(unique_words)"
      ],
      "metadata": {
        "colab": {
          "base_uri": "https://localhost:8080/"
        },
        "id": "3v_Y-Hnch3je",
        "outputId": "420fac96-049d-43eb-8188-88e470de10b9"
      },
      "execution_count": null,
      "outputs": [
        {
          "output_type": "stream",
          "name": "stdout",
          "text": [
            "[('Apple', 1), ('inspired', 1), ('visit', 1), ('apple', 1), ('farm', 1)]\n",
            "['Apple', 'inspired', 'visit', 'apple', 'farm', 'fruitarian', 'diet']\n"
          ]
        }
      ]
    },
    {
      "cell_type": "markdown",
      "source": [
        "### **Part-Of-Speech (POS) Tagging**\n",
        "\n",
        "Part of speech (POS) analyzes the grammatical role each word plays in a sentence. In other words, it determines to which category each word (Noun, Pronoun, Adjective, Verb, Adverb, Preposition, Conjunction, and interjection) belongs. POS tags are useful when you want to assign a syntactic category to each word of the text for future analysis.\n"
      ],
      "metadata": {
        "id": "uYBh0E-Uh74U"
      }
    },
    {
      "cell_type": "code",
      "source": [
        "import spacy\n",
        "load_model = spacy.load('en_core_web_sm')\n",
        "\n",
        "# Create an nlp object\n",
        "nlp = load_model(\"Apple's name was inspired by his visit to an apple farm while on a fruitarian diet.\")\n",
        "\n",
        "# Iterate over the tokens\n",
        "for token in nlp:\n",
        "    # Print the token and its part-of-speech tag\n",
        "    print(token, token.tag_, token.pos_, spacy.explain(token.tag_))"
      ],
      "metadata": {
        "colab": {
          "base_uri": "https://localhost:8080/"
        },
        "id": "1aN5_arGh_Ul",
        "outputId": "b1b3ceff-b294-46f9-b96b-6fd82800df93"
      },
      "execution_count": null,
      "outputs": [
        {
          "output_type": "stream",
          "name": "stdout",
          "text": [
            "Apple NNP PROPN noun, proper singular\n",
            "'s POS PART possessive ending\n",
            "name NN NOUN noun, singular or mass\n",
            "was VBD AUX verb, past tense\n",
            "inspired VBN VERB verb, past participle\n",
            "by IN ADP conjunction, subordinating or preposition\n",
            "his PRP$ PRON pronoun, possessive\n",
            "visit NN NOUN noun, singular or mass\n",
            "to IN ADP conjunction, subordinating or preposition\n",
            "an DT DET determiner\n",
            "apple NN NOUN noun, singular or mass\n",
            "farm NN NOUN noun, singular or mass\n",
            "while IN SCONJ conjunction, subordinating or preposition\n",
            "on IN ADP conjunction, subordinating or preposition\n",
            "a DT DET determiner\n",
            "fruitarian JJ ADJ adjective (English), other noun-modifier (Chinese)\n",
            "diet NN NOUN noun, singular or mass\n",
            ". . PUNCT punctuation mark, sentence closer\n"
          ]
        }
      ]
    },
    {
      "cell_type": "markdown",
      "source": [
        "We can use spaCy’s built-in displaCy visualizer to visualize output by executing displacy.serve. The displaCy can either take a single output or a list of output objects as its first argument.\n",
        "Note that there are yet no solutions available at the moment to display web content on Python consoles. A way to see the visualization is through the Jupyter notebook.\n"
      ],
      "metadata": {
        "id": "6cjqLoH9iBse"
      }
    },
    {
      "cell_type": "code",
      "source": [
        "# Import SpaCy in Jupyter notebook\n",
        "# import sys\n",
        "# !{sys.executable} -m pip install spacy\n",
        "# !{sys.executable} -m spacy download en\n",
        "# !python -m spacy download en_core_web_sm\n",
        "import spacy\n",
        "\n",
        "# Import displacy from spacy\n",
        "from spacy import displacy\n",
        "load_model = spacy.load('en_core_web_sm')\n",
        "nlp = load_model(\"Apple's name was inspired by his visit to an apple farm while on a fruitarian diet.\")\n",
        "\n",
        "# Visualize output\n",
        "displacy.render(nlp, style=\"dep\" , jupyter=True)"
      ],
      "metadata": {
        "colab": {
          "base_uri": "https://localhost:8080/",
          "height": 528
        },
        "id": "9RXVYs48iErN",
        "outputId": "1ad58e8e-5c19-40b5-9210-1c99fc84d7e8"
      },
      "execution_count": null,
      "outputs": [
        {
          "output_type": "display_data",
          "data": {
            "text/plain": [
              "<IPython.core.display.HTML object>"
            ],
            "text/html": [
              "<span class=\"tex2jax_ignore\"><svg xmlns=\"http://www.w3.org/2000/svg\" xmlns:xlink=\"http://www.w3.org/1999/xlink\" xml:lang=\"en\" id=\"340f73d07a034a8ca210d41f21431ac9-0\" class=\"displacy\" width=\"3025\" height=\"487.0\" direction=\"ltr\" style=\"max-width: none; height: 487.0px; color: #000000; background: #ffffff; font-family: Arial; direction: ltr\">\n",
              "<text class=\"displacy-token\" fill=\"currentColor\" text-anchor=\"middle\" y=\"397.0\">\n",
              "    <tspan class=\"displacy-word\" fill=\"currentColor\" x=\"50\">Apple</tspan>\n",
              "    <tspan class=\"displacy-tag\" dy=\"2em\" fill=\"currentColor\" x=\"50\">PROPN</tspan>\n",
              "</text>\n",
              "\n",
              "<text class=\"displacy-token\" fill=\"currentColor\" text-anchor=\"middle\" y=\"397.0\">\n",
              "    <tspan class=\"displacy-word\" fill=\"currentColor\" x=\"225\">'s</tspan>\n",
              "    <tspan class=\"displacy-tag\" dy=\"2em\" fill=\"currentColor\" x=\"225\">PART</tspan>\n",
              "</text>\n",
              "\n",
              "<text class=\"displacy-token\" fill=\"currentColor\" text-anchor=\"middle\" y=\"397.0\">\n",
              "    <tspan class=\"displacy-word\" fill=\"currentColor\" x=\"400\">name</tspan>\n",
              "    <tspan class=\"displacy-tag\" dy=\"2em\" fill=\"currentColor\" x=\"400\">NOUN</tspan>\n",
              "</text>\n",
              "\n",
              "<text class=\"displacy-token\" fill=\"currentColor\" text-anchor=\"middle\" y=\"397.0\">\n",
              "    <tspan class=\"displacy-word\" fill=\"currentColor\" x=\"575\">was</tspan>\n",
              "    <tspan class=\"displacy-tag\" dy=\"2em\" fill=\"currentColor\" x=\"575\">AUX</tspan>\n",
              "</text>\n",
              "\n",
              "<text class=\"displacy-token\" fill=\"currentColor\" text-anchor=\"middle\" y=\"397.0\">\n",
              "    <tspan class=\"displacy-word\" fill=\"currentColor\" x=\"750\">inspired</tspan>\n",
              "    <tspan class=\"displacy-tag\" dy=\"2em\" fill=\"currentColor\" x=\"750\">VERB</tspan>\n",
              "</text>\n",
              "\n",
              "<text class=\"displacy-token\" fill=\"currentColor\" text-anchor=\"middle\" y=\"397.0\">\n",
              "    <tspan class=\"displacy-word\" fill=\"currentColor\" x=\"925\">by</tspan>\n",
              "    <tspan class=\"displacy-tag\" dy=\"2em\" fill=\"currentColor\" x=\"925\">ADP</tspan>\n",
              "</text>\n",
              "\n",
              "<text class=\"displacy-token\" fill=\"currentColor\" text-anchor=\"middle\" y=\"397.0\">\n",
              "    <tspan class=\"displacy-word\" fill=\"currentColor\" x=\"1100\">his</tspan>\n",
              "    <tspan class=\"displacy-tag\" dy=\"2em\" fill=\"currentColor\" x=\"1100\">PRON</tspan>\n",
              "</text>\n",
              "\n",
              "<text class=\"displacy-token\" fill=\"currentColor\" text-anchor=\"middle\" y=\"397.0\">\n",
              "    <tspan class=\"displacy-word\" fill=\"currentColor\" x=\"1275\">visit</tspan>\n",
              "    <tspan class=\"displacy-tag\" dy=\"2em\" fill=\"currentColor\" x=\"1275\">NOUN</tspan>\n",
              "</text>\n",
              "\n",
              "<text class=\"displacy-token\" fill=\"currentColor\" text-anchor=\"middle\" y=\"397.0\">\n",
              "    <tspan class=\"displacy-word\" fill=\"currentColor\" x=\"1450\">to</tspan>\n",
              "    <tspan class=\"displacy-tag\" dy=\"2em\" fill=\"currentColor\" x=\"1450\">ADP</tspan>\n",
              "</text>\n",
              "\n",
              "<text class=\"displacy-token\" fill=\"currentColor\" text-anchor=\"middle\" y=\"397.0\">\n",
              "    <tspan class=\"displacy-word\" fill=\"currentColor\" x=\"1625\">an</tspan>\n",
              "    <tspan class=\"displacy-tag\" dy=\"2em\" fill=\"currentColor\" x=\"1625\">DET</tspan>\n",
              "</text>\n",
              "\n",
              "<text class=\"displacy-token\" fill=\"currentColor\" text-anchor=\"middle\" y=\"397.0\">\n",
              "    <tspan class=\"displacy-word\" fill=\"currentColor\" x=\"1800\">apple</tspan>\n",
              "    <tspan class=\"displacy-tag\" dy=\"2em\" fill=\"currentColor\" x=\"1800\">NOUN</tspan>\n",
              "</text>\n",
              "\n",
              "<text class=\"displacy-token\" fill=\"currentColor\" text-anchor=\"middle\" y=\"397.0\">\n",
              "    <tspan class=\"displacy-word\" fill=\"currentColor\" x=\"1975\">farm</tspan>\n",
              "    <tspan class=\"displacy-tag\" dy=\"2em\" fill=\"currentColor\" x=\"1975\">NOUN</tspan>\n",
              "</text>\n",
              "\n",
              "<text class=\"displacy-token\" fill=\"currentColor\" text-anchor=\"middle\" y=\"397.0\">\n",
              "    <tspan class=\"displacy-word\" fill=\"currentColor\" x=\"2150\">while</tspan>\n",
              "    <tspan class=\"displacy-tag\" dy=\"2em\" fill=\"currentColor\" x=\"2150\">SCONJ</tspan>\n",
              "</text>\n",
              "\n",
              "<text class=\"displacy-token\" fill=\"currentColor\" text-anchor=\"middle\" y=\"397.0\">\n",
              "    <tspan class=\"displacy-word\" fill=\"currentColor\" x=\"2325\">on</tspan>\n",
              "    <tspan class=\"displacy-tag\" dy=\"2em\" fill=\"currentColor\" x=\"2325\">ADP</tspan>\n",
              "</text>\n",
              "\n",
              "<text class=\"displacy-token\" fill=\"currentColor\" text-anchor=\"middle\" y=\"397.0\">\n",
              "    <tspan class=\"displacy-word\" fill=\"currentColor\" x=\"2500\">a</tspan>\n",
              "    <tspan class=\"displacy-tag\" dy=\"2em\" fill=\"currentColor\" x=\"2500\">DET</tspan>\n",
              "</text>\n",
              "\n",
              "<text class=\"displacy-token\" fill=\"currentColor\" text-anchor=\"middle\" y=\"397.0\">\n",
              "    <tspan class=\"displacy-word\" fill=\"currentColor\" x=\"2675\">fruitarian</tspan>\n",
              "    <tspan class=\"displacy-tag\" dy=\"2em\" fill=\"currentColor\" x=\"2675\">ADJ</tspan>\n",
              "</text>\n",
              "\n",
              "<text class=\"displacy-token\" fill=\"currentColor\" text-anchor=\"middle\" y=\"397.0\">\n",
              "    <tspan class=\"displacy-word\" fill=\"currentColor\" x=\"2850\">diet.</tspan>\n",
              "    <tspan class=\"displacy-tag\" dy=\"2em\" fill=\"currentColor\" x=\"2850\">NOUN</tspan>\n",
              "</text>\n",
              "\n",
              "<g class=\"displacy-arrow\">\n",
              "    <path class=\"displacy-arc\" id=\"arrow-340f73d07a034a8ca210d41f21431ac9-0-0\" stroke-width=\"2px\" d=\"M70,352.0 C70,177.0 390.0,177.0 390.0,352.0\" fill=\"none\" stroke=\"currentColor\"/>\n",
              "    <text dy=\"1.25em\" style=\"font-size: 0.8em; letter-spacing: 1px\">\n",
              "        <textPath xlink:href=\"#arrow-340f73d07a034a8ca210d41f21431ac9-0-0\" class=\"displacy-label\" startOffset=\"50%\" side=\"left\" fill=\"currentColor\" text-anchor=\"middle\">poss</textPath>\n",
              "    </text>\n",
              "    <path class=\"displacy-arrowhead\" d=\"M70,354.0 L62,342.0 78,342.0\" fill=\"currentColor\"/>\n",
              "</g>\n",
              "\n",
              "<g class=\"displacy-arrow\">\n",
              "    <path class=\"displacy-arc\" id=\"arrow-340f73d07a034a8ca210d41f21431ac9-0-1\" stroke-width=\"2px\" d=\"M70,352.0 C70,264.5 210.0,264.5 210.0,352.0\" fill=\"none\" stroke=\"currentColor\"/>\n",
              "    <text dy=\"1.25em\" style=\"font-size: 0.8em; letter-spacing: 1px\">\n",
              "        <textPath xlink:href=\"#arrow-340f73d07a034a8ca210d41f21431ac9-0-1\" class=\"displacy-label\" startOffset=\"50%\" side=\"left\" fill=\"currentColor\" text-anchor=\"middle\">case</textPath>\n",
              "    </text>\n",
              "    <path class=\"displacy-arrowhead\" d=\"M210.0,354.0 L218.0,342.0 202.0,342.0\" fill=\"currentColor\"/>\n",
              "</g>\n",
              "\n",
              "<g class=\"displacy-arrow\">\n",
              "    <path class=\"displacy-arc\" id=\"arrow-340f73d07a034a8ca210d41f21431ac9-0-2\" stroke-width=\"2px\" d=\"M420,352.0 C420,177.0 740.0,177.0 740.0,352.0\" fill=\"none\" stroke=\"currentColor\"/>\n",
              "    <text dy=\"1.25em\" style=\"font-size: 0.8em; letter-spacing: 1px\">\n",
              "        <textPath xlink:href=\"#arrow-340f73d07a034a8ca210d41f21431ac9-0-2\" class=\"displacy-label\" startOffset=\"50%\" side=\"left\" fill=\"currentColor\" text-anchor=\"middle\">nsubjpass</textPath>\n",
              "    </text>\n",
              "    <path class=\"displacy-arrowhead\" d=\"M420,354.0 L412,342.0 428,342.0\" fill=\"currentColor\"/>\n",
              "</g>\n",
              "\n",
              "<g class=\"displacy-arrow\">\n",
              "    <path class=\"displacy-arc\" id=\"arrow-340f73d07a034a8ca210d41f21431ac9-0-3\" stroke-width=\"2px\" d=\"M595,352.0 C595,264.5 735.0,264.5 735.0,352.0\" fill=\"none\" stroke=\"currentColor\"/>\n",
              "    <text dy=\"1.25em\" style=\"font-size: 0.8em; letter-spacing: 1px\">\n",
              "        <textPath xlink:href=\"#arrow-340f73d07a034a8ca210d41f21431ac9-0-3\" class=\"displacy-label\" startOffset=\"50%\" side=\"left\" fill=\"currentColor\" text-anchor=\"middle\">auxpass</textPath>\n",
              "    </text>\n",
              "    <path class=\"displacy-arrowhead\" d=\"M595,354.0 L587,342.0 603,342.0\" fill=\"currentColor\"/>\n",
              "</g>\n",
              "\n",
              "<g class=\"displacy-arrow\">\n",
              "    <path class=\"displacy-arc\" id=\"arrow-340f73d07a034a8ca210d41f21431ac9-0-4\" stroke-width=\"2px\" d=\"M770,352.0 C770,264.5 910.0,264.5 910.0,352.0\" fill=\"none\" stroke=\"currentColor\"/>\n",
              "    <text dy=\"1.25em\" style=\"font-size: 0.8em; letter-spacing: 1px\">\n",
              "        <textPath xlink:href=\"#arrow-340f73d07a034a8ca210d41f21431ac9-0-4\" class=\"displacy-label\" startOffset=\"50%\" side=\"left\" fill=\"currentColor\" text-anchor=\"middle\">agent</textPath>\n",
              "    </text>\n",
              "    <path class=\"displacy-arrowhead\" d=\"M910.0,354.0 L918.0,342.0 902.0,342.0\" fill=\"currentColor\"/>\n",
              "</g>\n",
              "\n",
              "<g class=\"displacy-arrow\">\n",
              "    <path class=\"displacy-arc\" id=\"arrow-340f73d07a034a8ca210d41f21431ac9-0-5\" stroke-width=\"2px\" d=\"M1120,352.0 C1120,264.5 1260.0,264.5 1260.0,352.0\" fill=\"none\" stroke=\"currentColor\"/>\n",
              "    <text dy=\"1.25em\" style=\"font-size: 0.8em; letter-spacing: 1px\">\n",
              "        <textPath xlink:href=\"#arrow-340f73d07a034a8ca210d41f21431ac9-0-5\" class=\"displacy-label\" startOffset=\"50%\" side=\"left\" fill=\"currentColor\" text-anchor=\"middle\">poss</textPath>\n",
              "    </text>\n",
              "    <path class=\"displacy-arrowhead\" d=\"M1120,354.0 L1112,342.0 1128,342.0\" fill=\"currentColor\"/>\n",
              "</g>\n",
              "\n",
              "<g class=\"displacy-arrow\">\n",
              "    <path class=\"displacy-arc\" id=\"arrow-340f73d07a034a8ca210d41f21431ac9-0-6\" stroke-width=\"2px\" d=\"M945,352.0 C945,177.0 1265.0,177.0 1265.0,352.0\" fill=\"none\" stroke=\"currentColor\"/>\n",
              "    <text dy=\"1.25em\" style=\"font-size: 0.8em; letter-spacing: 1px\">\n",
              "        <textPath xlink:href=\"#arrow-340f73d07a034a8ca210d41f21431ac9-0-6\" class=\"displacy-label\" startOffset=\"50%\" side=\"left\" fill=\"currentColor\" text-anchor=\"middle\">pobj</textPath>\n",
              "    </text>\n",
              "    <path class=\"displacy-arrowhead\" d=\"M1265.0,354.0 L1273.0,342.0 1257.0,342.0\" fill=\"currentColor\"/>\n",
              "</g>\n",
              "\n",
              "<g class=\"displacy-arrow\">\n",
              "    <path class=\"displacy-arc\" id=\"arrow-340f73d07a034a8ca210d41f21431ac9-0-7\" stroke-width=\"2px\" d=\"M1295,352.0 C1295,264.5 1435.0,264.5 1435.0,352.0\" fill=\"none\" stroke=\"currentColor\"/>\n",
              "    <text dy=\"1.25em\" style=\"font-size: 0.8em; letter-spacing: 1px\">\n",
              "        <textPath xlink:href=\"#arrow-340f73d07a034a8ca210d41f21431ac9-0-7\" class=\"displacy-label\" startOffset=\"50%\" side=\"left\" fill=\"currentColor\" text-anchor=\"middle\">prep</textPath>\n",
              "    </text>\n",
              "    <path class=\"displacy-arrowhead\" d=\"M1435.0,354.0 L1443.0,342.0 1427.0,342.0\" fill=\"currentColor\"/>\n",
              "</g>\n",
              "\n",
              "<g class=\"displacy-arrow\">\n",
              "    <path class=\"displacy-arc\" id=\"arrow-340f73d07a034a8ca210d41f21431ac9-0-8\" stroke-width=\"2px\" d=\"M1645,352.0 C1645,177.0 1965.0,177.0 1965.0,352.0\" fill=\"none\" stroke=\"currentColor\"/>\n",
              "    <text dy=\"1.25em\" style=\"font-size: 0.8em; letter-spacing: 1px\">\n",
              "        <textPath xlink:href=\"#arrow-340f73d07a034a8ca210d41f21431ac9-0-8\" class=\"displacy-label\" startOffset=\"50%\" side=\"left\" fill=\"currentColor\" text-anchor=\"middle\">det</textPath>\n",
              "    </text>\n",
              "    <path class=\"displacy-arrowhead\" d=\"M1645,354.0 L1637,342.0 1653,342.0\" fill=\"currentColor\"/>\n",
              "</g>\n",
              "\n",
              "<g class=\"displacy-arrow\">\n",
              "    <path class=\"displacy-arc\" id=\"arrow-340f73d07a034a8ca210d41f21431ac9-0-9\" stroke-width=\"2px\" d=\"M1820,352.0 C1820,264.5 1960.0,264.5 1960.0,352.0\" fill=\"none\" stroke=\"currentColor\"/>\n",
              "    <text dy=\"1.25em\" style=\"font-size: 0.8em; letter-spacing: 1px\">\n",
              "        <textPath xlink:href=\"#arrow-340f73d07a034a8ca210d41f21431ac9-0-9\" class=\"displacy-label\" startOffset=\"50%\" side=\"left\" fill=\"currentColor\" text-anchor=\"middle\">compound</textPath>\n",
              "    </text>\n",
              "    <path class=\"displacy-arrowhead\" d=\"M1820,354.0 L1812,342.0 1828,342.0\" fill=\"currentColor\"/>\n",
              "</g>\n",
              "\n",
              "<g class=\"displacy-arrow\">\n",
              "    <path class=\"displacy-arc\" id=\"arrow-340f73d07a034a8ca210d41f21431ac9-0-10\" stroke-width=\"2px\" d=\"M1470,352.0 C1470,89.5 1970.0,89.5 1970.0,352.0\" fill=\"none\" stroke=\"currentColor\"/>\n",
              "    <text dy=\"1.25em\" style=\"font-size: 0.8em; letter-spacing: 1px\">\n",
              "        <textPath xlink:href=\"#arrow-340f73d07a034a8ca210d41f21431ac9-0-10\" class=\"displacy-label\" startOffset=\"50%\" side=\"left\" fill=\"currentColor\" text-anchor=\"middle\">pobj</textPath>\n",
              "    </text>\n",
              "    <path class=\"displacy-arrowhead\" d=\"M1970.0,354.0 L1978.0,342.0 1962.0,342.0\" fill=\"currentColor\"/>\n",
              "</g>\n",
              "\n",
              "<g class=\"displacy-arrow\">\n",
              "    <path class=\"displacy-arc\" id=\"arrow-340f73d07a034a8ca210d41f21431ac9-0-11\" stroke-width=\"2px\" d=\"M2170,352.0 C2170,264.5 2310.0,264.5 2310.0,352.0\" fill=\"none\" stroke=\"currentColor\"/>\n",
              "    <text dy=\"1.25em\" style=\"font-size: 0.8em; letter-spacing: 1px\">\n",
              "        <textPath xlink:href=\"#arrow-340f73d07a034a8ca210d41f21431ac9-0-11\" class=\"displacy-label\" startOffset=\"50%\" side=\"left\" fill=\"currentColor\" text-anchor=\"middle\">mark</textPath>\n",
              "    </text>\n",
              "    <path class=\"displacy-arrowhead\" d=\"M2170,354.0 L2162,342.0 2178,342.0\" fill=\"currentColor\"/>\n",
              "</g>\n",
              "\n",
              "<g class=\"displacy-arrow\">\n",
              "    <path class=\"displacy-arc\" id=\"arrow-340f73d07a034a8ca210d41f21431ac9-0-12\" stroke-width=\"2px\" d=\"M770,352.0 C770,2.0 2325.0,2.0 2325.0,352.0\" fill=\"none\" stroke=\"currentColor\"/>\n",
              "    <text dy=\"1.25em\" style=\"font-size: 0.8em; letter-spacing: 1px\">\n",
              "        <textPath xlink:href=\"#arrow-340f73d07a034a8ca210d41f21431ac9-0-12\" class=\"displacy-label\" startOffset=\"50%\" side=\"left\" fill=\"currentColor\" text-anchor=\"middle\">prep</textPath>\n",
              "    </text>\n",
              "    <path class=\"displacy-arrowhead\" d=\"M2325.0,354.0 L2333.0,342.0 2317.0,342.0\" fill=\"currentColor\"/>\n",
              "</g>\n",
              "\n",
              "<g class=\"displacy-arrow\">\n",
              "    <path class=\"displacy-arc\" id=\"arrow-340f73d07a034a8ca210d41f21431ac9-0-13\" stroke-width=\"2px\" d=\"M2520,352.0 C2520,177.0 2840.0,177.0 2840.0,352.0\" fill=\"none\" stroke=\"currentColor\"/>\n",
              "    <text dy=\"1.25em\" style=\"font-size: 0.8em; letter-spacing: 1px\">\n",
              "        <textPath xlink:href=\"#arrow-340f73d07a034a8ca210d41f21431ac9-0-13\" class=\"displacy-label\" startOffset=\"50%\" side=\"left\" fill=\"currentColor\" text-anchor=\"middle\">det</textPath>\n",
              "    </text>\n",
              "    <path class=\"displacy-arrowhead\" d=\"M2520,354.0 L2512,342.0 2528,342.0\" fill=\"currentColor\"/>\n",
              "</g>\n",
              "\n",
              "<g class=\"displacy-arrow\">\n",
              "    <path class=\"displacy-arc\" id=\"arrow-340f73d07a034a8ca210d41f21431ac9-0-14\" stroke-width=\"2px\" d=\"M2695,352.0 C2695,264.5 2835.0,264.5 2835.0,352.0\" fill=\"none\" stroke=\"currentColor\"/>\n",
              "    <text dy=\"1.25em\" style=\"font-size: 0.8em; letter-spacing: 1px\">\n",
              "        <textPath xlink:href=\"#arrow-340f73d07a034a8ca210d41f21431ac9-0-14\" class=\"displacy-label\" startOffset=\"50%\" side=\"left\" fill=\"currentColor\" text-anchor=\"middle\">amod</textPath>\n",
              "    </text>\n",
              "    <path class=\"displacy-arrowhead\" d=\"M2695,354.0 L2687,342.0 2703,342.0\" fill=\"currentColor\"/>\n",
              "</g>\n",
              "\n",
              "<g class=\"displacy-arrow\">\n",
              "    <path class=\"displacy-arc\" id=\"arrow-340f73d07a034a8ca210d41f21431ac9-0-15\" stroke-width=\"2px\" d=\"M2345,352.0 C2345,89.5 2845.0,89.5 2845.0,352.0\" fill=\"none\" stroke=\"currentColor\"/>\n",
              "    <text dy=\"1.25em\" style=\"font-size: 0.8em; letter-spacing: 1px\">\n",
              "        <textPath xlink:href=\"#arrow-340f73d07a034a8ca210d41f21431ac9-0-15\" class=\"displacy-label\" startOffset=\"50%\" side=\"left\" fill=\"currentColor\" text-anchor=\"middle\">pobj</textPath>\n",
              "    </text>\n",
              "    <path class=\"displacy-arrowhead\" d=\"M2845.0,354.0 L2853.0,342.0 2837.0,342.0\" fill=\"currentColor\"/>\n",
              "</g>\n",
              "</svg></span>"
            ]
          },
          "metadata": {}
        }
      ]
    },
    {
      "cell_type": "markdown",
      "source": [
        "### **Dependency Parsing**\n",
        "\n",
        "Dependency parsing is the process of extracting the dependency parsing of a sentence to represent its grammatical structure. It defines the dependency relationship between headwords and their dependents. It helps you understand what role a word plays in the text and how words relate to each other.\n",
        "\n",
        "In dependency parsing, the head of a sentence is called the root of the sentence and has no dependency. The main verb or action is usually the head of the sentence and is denoted by the dependency tag ROOT. Other words are directly or indirectly to the headword.\n",
        "\n",
        "To use dependency parsing and explore the relationships between words:\n"
      ],
      "metadata": {
        "id": "6KkPxF85imia"
      }
    },
    {
      "cell_type": "code",
      "source": [
        "import spacy\n",
        "load_model = spacy.load('en_core_web_sm')\n",
        "nlp = load_model(\"Apple's name was inspired by his visit to an apple farm while on a fruitarian diet.\")\n",
        "\n",
        "for token in nlp:\n",
        "    # Print the tokens and their dependency tag\n",
        "    print(token.text, \"-->\", token.dep_)"
      ],
      "metadata": {
        "colab": {
          "base_uri": "https://localhost:8080/"
        },
        "id": "to4w6eI_itXr",
        "outputId": "d6b7a675-6271-48a9-b64c-7e913350780c"
      },
      "execution_count": null,
      "outputs": [
        {
          "output_type": "stream",
          "name": "stdout",
          "text": [
            "Apple --> poss\n",
            "'s --> case\n",
            "name --> nsubjpass\n",
            "was --> auxpass\n",
            "inspired --> ROOT\n",
            "by --> agent\n",
            "his --> poss\n",
            "visit --> pobj\n",
            "to --> prep\n",
            "an --> det\n",
            "apple --> compound\n",
            "farm --> pobj\n",
            "while --> mark\n",
            "on --> prep\n",
            "a --> det\n",
            "fruitarian --> amod\n",
            "diet --> pobj\n",
            ". --> punct\n"
          ]
        }
      ]
    },
    {
      "cell_type": "markdown",
      "source": [
        "You can find out what other tags stand for by executing the code below. A tuple will be returned that contains words in the text that corresponds to each dependency tag:\n"
      ],
      "metadata": {
        "id": "KbjZx9y9ivtM"
      }
    },
    {
      "cell_type": "code",
      "source": [
        "spacy.explain(\"nsubj\"), spacy.explain(\"ROOT\"), spacy.explain(\"aux\"), spacy.explain(\"advcl\"), spacy.explain(\"dobj\")"
      ],
      "metadata": {
        "colab": {
          "base_uri": "https://localhost:8080/"
        },
        "id": "jVhOPKj5iwRs",
        "outputId": "31794169-dd3e-45fa-f277-0aade4307e7c"
      },
      "execution_count": null,
      "outputs": [
        {
          "output_type": "execute_result",
          "data": {
            "text/plain": [
              "('nominal subject',\n",
              " 'root',\n",
              " 'auxiliary',\n",
              " 'adverbial clause modifier',\n",
              " 'direct object')"
            ]
          },
          "metadata": {},
          "execution_count": 26
        }
      ]
    },
    {
      "cell_type": "markdown",
      "source": [
        "### **Lemmatization**\n",
        "\n",
        "Lemmatization is the process of reducing inflected forms of a word while ensuring that the reduced form belongs to a language. This reduced form or root word is called a lemma.\n",
        "For example, “organizes”, “organized”, and “organizing” are all forms of “organize” (lemma). Here, organize is the lemma. The inflection of a word also reduces numbers (car vs cars).\n",
        "\n",
        "Lemmatization is an important step because it helps you reduce the inflected forms of a word so that they can be analyzed the text more efficiently.\n",
        "\n",
        "To perform lemmatization, use the spaCy attribute lemma_ on the tokenized object. This attribute has the lemmatized form of a token:\n"
      ],
      "metadata": {
        "id": "3CCrlfhai73o"
      }
    },
    {
      "cell_type": "code",
      "source": [
        "import spacy\n",
        "load_model = spacy.load('en_core_web_sm')\n",
        "\n",
        "nlp = load_model(\"Apple's name was inspired by his visit to an apple farm while on a fruitarian diet.\")\n",
        "\n",
        "for token in nlp:\n",
        "    # Print the token and its part-of-speech tag\n",
        "    print(token.text, \"-->\", token.lemma_)"
      ],
      "metadata": {
        "colab": {
          "base_uri": "https://localhost:8080/"
        },
        "id": "He8z6wtSjC8f",
        "outputId": "9f27d980-38cd-42b7-f7a3-30b96e19152d"
      },
      "execution_count": null,
      "outputs": [
        {
          "output_type": "stream",
          "name": "stdout",
          "text": [
            "Apple --> Apple\n",
            "'s --> 's\n",
            "name --> name\n",
            "was --> be\n",
            "inspired --> inspire\n",
            "by --> by\n",
            "his --> his\n",
            "visit --> visit\n",
            "to --> to\n",
            "an --> an\n",
            "apple --> apple\n",
            "farm --> farm\n",
            "while --> while\n",
            "on --> on\n",
            "a --> a\n",
            "fruitarian --> fruitarian\n",
            "diet --> diet\n",
            ". --> .\n"
          ]
        }
      ]
    },
    {
      "cell_type": "markdown",
      "source": [
        "### **Named Entity Recognition (NER)**\n",
        "\n",
        "A named entity is an object’s assigned name, for example, a person’s name, a film, a book title, or a song’s name. spaCy can recognize these named entities in a document by asking the model for a prediction. Because the performance of the models depends on the examples they were trained on, NEF might not always work perfectly and you might need to adjust the tuning based on your case.\n",
        "\n",
        "Named entity recognition can be accomplished when you apply the ents property to an output:\n"
      ],
      "metadata": {
        "id": "exe29dKGjGir"
      }
    },
    {
      "cell_type": "code",
      "source": [
        "import spacy\n",
        "\n",
        "load_model = spacy.load(\"en_core_web_sm\")\n",
        "nlp = load_model(\"Apple's name was inspired by his visit to an apple farm while on a fruitarian diet.\")\n",
        "\n",
        "for ent in nlp.ents:\n",
        "    # For each identified named entity, Python will print out the text, its starting position, ending position, and named entity label\n",
        "    print(ent.text, ent.start_char, ent.end_char, ent.label_)"
      ],
      "metadata": {
        "colab": {
          "base_uri": "https://localhost:8080/"
        },
        "id": "_5etHS43jL0g",
        "outputId": "35c9332b-871a-434f-e398-933b99aae83a"
      },
      "execution_count": null,
      "outputs": [
        {
          "output_type": "stream",
          "name": "stdout",
          "text": [
            "Apple 0 5 ORG\n"
          ]
        }
      ]
    },
    {
      "cell_type": "markdown",
      "source": [
        "### **Entity Detection**\n",
        "\n",
        "Entity detection is a more advanced form of language processing. ED identifies entities in a sentence such as specific locations (GPE), date-related words (DATE), important numbers (CARDINAL), and specific individuals (PERSON) within an input string of text. It is helpful when you want to identify key information from text.\n",
        "\n",
        "We use the property label to grab a label for each entity that has been detected in the text. You can also visualize those entities in spaCy‘s displaCy visualizer.\n"
      ],
      "metadata": {
        "id": "u6zRMhCUjOb1"
      }
    },
    {
      "cell_type": "code",
      "source": [
        "import spacy\n",
        "from spacy import displacy\n",
        "load_model = spacy.load(\"en_core_web_sm\")\n",
        "nlp = load_model(\"\"\"The Amazon rainforest,[a] alternatively, the Amazon Jungle, also known in English as Amazonia, is a moist broadleaf tropical rainforest in the Amazon biome that covers most of the Amazon basin of South America. \"\"\")\n",
        "\n",
        "for i in nlp.ents:\n",
        "    # For each identified named entity, Python will print out the text, and entity label\n",
        "    print(i, i.label_)\n"
      ],
      "metadata": {
        "colab": {
          "base_uri": "https://localhost:8080/"
        },
        "id": "FIwoBXIRjUI4",
        "outputId": "8364f3d6-44f1-4c8b-b53d-e3724487e7ea"
      },
      "execution_count": null,
      "outputs": [
        {
          "output_type": "stream",
          "name": "stdout",
          "text": [
            "Amazon ORG\n",
            "Amazon ORG\n",
            "English LANGUAGE\n",
            "Amazonia GPE\n",
            "Amazon ORG\n",
            "South America LOC\n"
          ]
        }
      ]
    },
    {
      "cell_type": "markdown",
      "source": [
        "Using displaCy we can also visualize our input text, with each identified entity highlighted by color and labeled. We’ll use style = \"ent\" to tell displaCy that we want to visualize entities here:"
      ],
      "metadata": {
        "id": "xHksIATSjXEF"
      }
    },
    {
      "cell_type": "code",
      "source": [
        "displacy.render(nlp, style = \"ent\", jupyter = True)\n"
      ],
      "metadata": {
        "colab": {
          "base_uri": "https://localhost:8080/",
          "height": 87
        },
        "id": "k46Heh9wjXig",
        "outputId": "24843184-c9ac-4638-d80c-a9f4022ff709"
      },
      "execution_count": null,
      "outputs": [
        {
          "output_type": "display_data",
          "data": {
            "text/plain": [
              "<IPython.core.display.HTML object>"
            ],
            "text/html": [
              "<span class=\"tex2jax_ignore\"><div class=\"entities\" style=\"line-height: 2.5; direction: ltr\">The \n",
              "<mark class=\"entity\" style=\"background: #7aecec; padding: 0.45em 0.6em; margin: 0 0.25em; line-height: 1; border-radius: 0.35em;\">\n",
              "    Amazon\n",
              "    <span style=\"font-size: 0.8em; font-weight: bold; line-height: 1; border-radius: 0.35em; vertical-align: middle; margin-left: 0.5rem\">ORG</span>\n",
              "</mark>\n",
              " rainforest,[a] alternatively, the \n",
              "<mark class=\"entity\" style=\"background: #7aecec; padding: 0.45em 0.6em; margin: 0 0.25em; line-height: 1; border-radius: 0.35em;\">\n",
              "    Amazon\n",
              "    <span style=\"font-size: 0.8em; font-weight: bold; line-height: 1; border-radius: 0.35em; vertical-align: middle; margin-left: 0.5rem\">ORG</span>\n",
              "</mark>\n",
              " Jungle, also known in \n",
              "<mark class=\"entity\" style=\"background: #ff8197; padding: 0.45em 0.6em; margin: 0 0.25em; line-height: 1; border-radius: 0.35em;\">\n",
              "    English\n",
              "    <span style=\"font-size: 0.8em; font-weight: bold; line-height: 1; border-radius: 0.35em; vertical-align: middle; margin-left: 0.5rem\">LANGUAGE</span>\n",
              "</mark>\n",
              " as \n",
              "<mark class=\"entity\" style=\"background: #feca74; padding: 0.45em 0.6em; margin: 0 0.25em; line-height: 1; border-radius: 0.35em;\">\n",
              "    Amazonia\n",
              "    <span style=\"font-size: 0.8em; font-weight: bold; line-height: 1; border-radius: 0.35em; vertical-align: middle; margin-left: 0.5rem\">GPE</span>\n",
              "</mark>\n",
              ", is a moist broadleaf tropical rainforest in the \n",
              "<mark class=\"entity\" style=\"background: #7aecec; padding: 0.45em 0.6em; margin: 0 0.25em; line-height: 1; border-radius: 0.35em;\">\n",
              "    Amazon\n",
              "    <span style=\"font-size: 0.8em; font-weight: bold; line-height: 1; border-radius: 0.35em; vertical-align: middle; margin-left: 0.5rem\">ORG</span>\n",
              "</mark>\n",
              " biome that covers most of the Amazon basin of \n",
              "<mark class=\"entity\" style=\"background: #ff9561; padding: 0.45em 0.6em; margin: 0 0.25em; line-height: 1; border-radius: 0.35em;\">\n",
              "    South America\n",
              "    <span style=\"font-size: 0.8em; font-weight: bold; line-height: 1; border-radius: 0.35em; vertical-align: middle; margin-left: 0.5rem\">LOC</span>\n",
              "</mark>\n",
              ". </div></span>"
            ]
          },
          "metadata": {}
        }
      ]
    },
    {
      "cell_type": "markdown",
      "source": [
        "### **Similarity**\n",
        "\n",
        "Similarity is determined by comparing word vectors or “word embeddings”, multi-dimensional meaning representations of a word. Spacy provides inbuilt integration of dense, real-valued vectors representing distributional similarity information."
      ],
      "metadata": {
        "id": "GGNPjPRnjdT-"
      }
    },
    {
      "cell_type": "code",
      "source": [
        "import spacy\n",
        "load_model = spacy.load(\"en_core_web_lg\")\n",
        "\n",
        "nlp = load_model(\"dog cat banana afskfsd\")\n",
        "\n",
        "for token in nlp:\n",
        "    # Print the token text, the boolean value of whether the token is part of the model’s vocabulary, dimensions, and the boolean value of whether the token is out-of-vocabulary\n",
        "    print(token.text, token.has_vector, token.vector_norm, token.is_oov)"
      ],
      "metadata": {
        "colab": {
          "base_uri": "https://localhost:8080/"
        },
        "id": "M9h5zAMFjhYW",
        "outputId": "e9f827eb-7f1d-4f17-8854-d8337218fb01"
      },
      "execution_count": null,
      "outputs": [
        {
          "output_type": "stream",
          "name": "stdout",
          "text": [
            "dog True 75.254234 False\n",
            "cat True 63.188496 False\n",
            "banana True 31.620354 False\n",
            "afskfsd False 0.0 True\n"
          ]
        }
      ]
    },
    {
      "cell_type": "markdown",
      "source": [
        "Note that the words “dog”, “cat” and “banana” are all common in English, so they’re part of the model’s vocabulary, and come with a vector. On the other hand, the word “afskfsd” is a lot less common and out-of-vocabulary, so its vector representation consists of 300 dimensions of 0, meaning it’s practically nonexistent.\n",
        "\n",
        "spaCy is able to compare two objects and make a prediction of how similar they are. Predicting similarity is useful for building recommendation systems or flagging duplicates:\n"
      ],
      "metadata": {
        "id": "0Vklk8qJjnRH"
      }
    },
    {
      "cell_type": "code",
      "source": [
        "import spacy\n",
        "load_model = spacy.load(\"en_core_web_lg\")    # make sure to use larger package!\n",
        "\n",
        "nlp1 = load_model(\"I like salty fries and hamburgers.\")\n",
        "nlp2 = load_model(\"Fast food tastes very good.\")\n",
        "\n",
        "# Similarity of two documents\n",
        "print(nlp1, \"<->\", nlp2, nlp1.similarity(nlp2))\n",
        "\n",
        "# Similarity of tokens and spans\n",
        "french_fries = nlp1[2:4]\n",
        "burgers = nlp2[5]\n",
        "print(french_fries, \"<->\", burgers, french_fries.similarity(burgers))"
      ],
      "metadata": {
        "colab": {
          "base_uri": "https://localhost:8080/"
        },
        "id": "A9K7hRU2lo2w",
        "outputId": "2f74c77a-9e18-468f-e069-3c029bf68ac8"
      },
      "execution_count": null,
      "outputs": [
        {
          "output_type": "stream",
          "name": "stdout",
          "text": [
            "I like salty fries and hamburgers. <-> Fast food tastes very good. 0.6871286202797843\n",
            "salty fries <-> . 0.17442554235458374\n"
          ]
        }
      ]
    },
    {
      "cell_type": "markdown",
      "source": [
        "In this case, the model’s tells us the similarity between two documents and between tokens and spans. You can also determine words’ similarities within one sentence.\n"
      ],
      "metadata": {
        "id": "ZkmwPijYlytT"
      }
    },
    {
      "cell_type": "code",
      "source": [
        "import spacy\n",
        "\n",
        "load_model = spacy.load(\"en_core_web_lg\")\n",
        "nlp = load_model(\"dog cat banana\")\n",
        "\n",
        "for token1 in nlp:\n",
        "    for token2 in nlp:\n",
        "        print(token1.text, token2.text, token1.similarity(token2))"
      ],
      "metadata": {
        "colab": {
          "base_uri": "https://localhost:8080/"
        },
        "id": "z9ZMqqUWl0yY",
        "outputId": "42d84fee-77d6-4329-8c2c-d0a17a98ca91"
      },
      "execution_count": null,
      "outputs": [
        {
          "output_type": "stream",
          "name": "stdout",
          "text": [
            "dog dog 1.0\n",
            "dog cat 0.8220816850662231\n",
            "dog banana 0.2090904712677002\n",
            "cat dog 0.8220816850662231\n",
            "cat cat 1.0\n",
            "cat banana 0.2235882580280304\n",
            "banana dog 0.2090904712677002\n",
            "banana cat 0.2235882580280304\n",
            "banana banana 1.0\n"
          ]
        }
      ]
    },
    {
      "cell_type": "markdown",
      "source": [
        "For the result, we see that dog and cat are much more similar to each other (similarity score = 1.00) than dog and banana (similarity score = 0.209)."
      ],
      "metadata": {
        "id": "jMOXpGyul4oi"
      }
    },
    {
      "cell_type": "markdown",
      "source": [
        "### **Rule-Based Matching**\n",
        "\n",
        "Rule-based matching extracts information from unstructured text by identifying tokens and phrases according to patterns (such as lowercase) and grammatical features (such as part of speech). Rule-based matching can use regular expressions to extract entities (such as phone numbers) from an unstructured text. With rule-based matching, you can extract a first name and the last name, which are always proper nouns:\n"
      ],
      "metadata": {
        "id": "j7VNsobgl7pU"
      }
    },
    {
      "cell_type": "code",
      "source": [
        "import spacy\n",
        "load_model = spacy.load('en_core_web_sm')\n",
        "\n",
        "from collections import Counter\n",
        "from spacy.matcher import Matcher\n",
        "\n",
        "text_doc = load_model('Steven Jobs (February 24, 1955 - October 5, 2011) was an American entrepreneur, industrial designer, business magnate, media proprietor, and investor. ')\n",
        "matcher = Matcher(nlp.vocab)\n",
        "\n",
        "def extract_full_name(text_doc):\n",
        "    pattern = [{'POS': 'PROPN'}, {'POS': 'PROPN'}]\n",
        "    matcher.add('FULL_NAME', [pattern])\n",
        "    matches = matcher(text_doc)\n",
        "    for match_id, start, end in matches:\n",
        "        span = text_doc[start:end]\n",
        "        return span.text\n",
        "\n",
        "print(extract_full_name(text_doc))"
      ],
      "metadata": {
        "colab": {
          "base_uri": "https://localhost:8080/"
        },
        "id": "-6vTqCxPmCtc",
        "outputId": "45196ba8-8781-4bf5-9470-c29e388a3a62"
      },
      "execution_count": null,
      "outputs": [
        {
          "output_type": "stream",
          "name": "stdout",
          "text": [
            "Steven Jobs\n"
          ]
        }
      ]
    },
    {
      "cell_type": "markdown",
      "source": [
        "Pattern is a list of objects that defines the combination of tokens to be matched. In our case, we want both the extracted words’ POS tags to be PROPN (proper noun). This pattern is then added to Matcher using a matching id “FULL_NAME”.\n"
      ],
      "metadata": {
        "id": "IoePVA4xmGbJ"
      }
    },
    {
      "cell_type": "markdown",
      "source": [
        "<div class=\"markdown-google-sans\">\n",
        "\n",
        "# **References (Additional Resources)**\n",
        "</div>\n",
        "\n",
        "[spaCy 101: Everything you need to know](https://spacy.io/usage/spacy-101)\n",
        "\n",
        "[Real Python: Natural Language Processing With spaCy in Python](https://realpython.com/natural-language-processing-spacy-python/)\n",
        "\n",
        "[NLP Tutorial ](https://www.kaggle.com/code/imanmkhamis/knowledge-graph-nlp-tutorial-bert-spacy-nltk)\n",
        "\n",
        "[AI in Education](https://itchronicles.com/artificial-intelligence/nlp-in-education/)\n",
        "\n",
        "\n",
        "\n",
        "\n"
      ],
      "metadata": {
        "id": "iGRBN617mMYS"
      }
    }
  ],
  "metadata": {
    "colab": {
      "provenance": [],
      "toc_visible": true
    },
    "kernelspec": {
      "display_name": "Python 3",
      "name": "python3"
    }
  },
  "nbformat": 4,
  "nbformat_minor": 0
}